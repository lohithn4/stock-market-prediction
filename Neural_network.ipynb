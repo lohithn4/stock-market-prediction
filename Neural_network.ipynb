{
 "cells": [
  {
   "cell_type": "code",
   "execution_count": 60,
   "metadata": {},
   "outputs": [],
   "source": [
    "from datetime import datetime, date\n",
    "from nowtrade.symbol_list import StockList\n",
    "from nowtrade.data_connection import YahooConnection\n",
    "from nowtrade import dataset \n",
    "from nowtrade import technical_indicator\n",
    "from nowtrade import criteria\n",
    "from nowtrade import criteria_group\n",
    "from nowtrade import trading_profile\n",
    "from nowtrade import trading_amount\n",
    "from nowtrade import trading_fee\n",
    "from nowtrade import strategy\n",
    "from nowtrade import neural_network\n",
    "from nowtrade.action import Long\n",
    "from nowtrade.action import Short\n",
    "from nowtrade.action import LongExit\n",
    "from nowtrade.action import ShortExit"
   ]
  },
  {
   "cell_type": "code",
   "execution_count": 61,
   "metadata": {
    "collapsed": true
   },
   "outputs": [],
   "source": [
    "%matplotlib inline\n",
    "import pandas as pd\n",
    "import numpy as np\n",
    "from pathlib import Path\n"
   ]
  },
  {
   "cell_type": "code",
   "execution_count": 62,
   "metadata": {
    "collapsed": true
   },
   "outputs": [],
   "source": [
    "symbol = 'BHARTIARTL.NS'\n",
    "symbols=StockList([symbol])\n",
    "symbol = symbols.get(symbol)\n",
    "\n",
    "today = date.today()\n",
    "train_start = datetime(today.year-6, today.month, 28)\n",
    "train_end = datetime.fromisoformat(today.replace(day=1).isoformat())\n",
    "train_dataset = dataset.Dataset(symbols,YahooConnection(), train_start, train_end)\n"
   ]
  },
  {
   "cell_type": "code",
   "execution_count": 63,
   "metadata": {
    "collapsed": true
   },
   "outputs": [],
   "source": [
    "train_dataset.load_data()"
   ]
  },
  {
   "cell_type": "code",
   "execution_count": 64,
   "metadata": {},
   "outputs": [
    {
     "output_type": "execute_result",
     "data": {
      "text/plain": [
       "Index(['BHARTIARTL.NS_High', 'BHARTIARTL.NS_Low', 'BHARTIARTL.NS_Open',\n",
       "       'BHARTIARTL.NS_Close', 'BHARTIARTL.NS_Volume',\n",
       "       'BHARTIARTL.NS_Adj Close'],\n",
       "      dtype='object')"
      ]
     },
     "metadata": {},
     "execution_count": 64
    }
   ],
   "source": [
    "train_dataset.data_frame.columns"
   ]
  },
  {
   "cell_type": "code",
   "execution_count": 65,
   "metadata": {},
   "outputs": [
    {
     "output_type": "execute_result",
     "data": {
      "text/plain": [
       "            BHARTIARTL.NS_High  BHARTIARTL.NS_Low  BHARTIARTL.NS_Open  \\\n",
       "Date                                                                    \n",
       "2015-03-02          333.298737         317.230621          327.146942   \n",
       "2015-03-03          321.913330         315.577911          321.362427   \n",
       "2015-03-04          329.075134         320.719696          323.198792   \n",
       "2015-03-05          323.106964         315.899261          322.647888   \n",
       "2015-03-09          318.378357         311.354279          318.378357   \n",
       "\n",
       "            BHARTIARTL.NS_Close  BHARTIARTL.NS_Volume  BHARTIARTL.NS_Adj Close  \n",
       "Date                                                                            \n",
       "2015-03-02           320.490173             4534701.0               308.872284  \n",
       "2015-03-03           320.673798             2251216.0               309.049255  \n",
       "2015-03-04           322.510162             3626477.0               310.819031  \n",
       "2015-03-05           319.434265             3807730.0               307.854614  \n",
       "2015-03-09           315.348358             3753392.0               303.916809  "
      ],
      "text/html": "<div>\n<style scoped>\n    .dataframe tbody tr th:only-of-type {\n        vertical-align: middle;\n    }\n\n    .dataframe tbody tr th {\n        vertical-align: top;\n    }\n\n    .dataframe thead th {\n        text-align: right;\n    }\n</style>\n<table border=\"1\" class=\"dataframe\">\n  <thead>\n    <tr style=\"text-align: right;\">\n      <th></th>\n      <th>BHARTIARTL.NS_High</th>\n      <th>BHARTIARTL.NS_Low</th>\n      <th>BHARTIARTL.NS_Open</th>\n      <th>BHARTIARTL.NS_Close</th>\n      <th>BHARTIARTL.NS_Volume</th>\n      <th>BHARTIARTL.NS_Adj Close</th>\n    </tr>\n    <tr>\n      <th>Date</th>\n      <th></th>\n      <th></th>\n      <th></th>\n      <th></th>\n      <th></th>\n      <th></th>\n    </tr>\n  </thead>\n  <tbody>\n    <tr>\n      <th>2015-03-02</th>\n      <td>333.298737</td>\n      <td>317.230621</td>\n      <td>327.146942</td>\n      <td>320.490173</td>\n      <td>4534701.0</td>\n      <td>308.872284</td>\n    </tr>\n    <tr>\n      <th>2015-03-03</th>\n      <td>321.913330</td>\n      <td>315.577911</td>\n      <td>321.362427</td>\n      <td>320.673798</td>\n      <td>2251216.0</td>\n      <td>309.049255</td>\n    </tr>\n    <tr>\n      <th>2015-03-04</th>\n      <td>329.075134</td>\n      <td>320.719696</td>\n      <td>323.198792</td>\n      <td>322.510162</td>\n      <td>3626477.0</td>\n      <td>310.819031</td>\n    </tr>\n    <tr>\n      <th>2015-03-05</th>\n      <td>323.106964</td>\n      <td>315.899261</td>\n      <td>322.647888</td>\n      <td>319.434265</td>\n      <td>3807730.0</td>\n      <td>307.854614</td>\n    </tr>\n    <tr>\n      <th>2015-03-09</th>\n      <td>318.378357</td>\n      <td>311.354279</td>\n      <td>318.378357</td>\n      <td>315.348358</td>\n      <td>3753392.0</td>\n      <td>303.916809</td>\n    </tr>\n  </tbody>\n</table>\n</div>"
     },
     "metadata": {},
     "execution_count": 65
    }
   ],
   "source": [
    "train_dataset.data_frame.head()"
   ]
  },
  {
   "cell_type": "code",
   "execution_count": 66,
   "metadata": {
    "collapsed": true
   },
   "outputs": [],
   "source": [
    "#nn = neural_network.NeuralNetwork([symbol.open, symbol.high, symbol.low, symbol.close, symbol.volume], [symbol.close])\n",
    "nn = neural_network.NeuralNetwork([symbol.open, symbol.high, symbol.low, symbol.volume], [symbol.close])"
   ]
  },
  {
   "cell_type": "code",
   "execution_count": 67,
   "metadata": {
    "collapsed": true
   },
   "outputs": [
    {
     "output_type": "stream",
     "name": "stdout",
     "text": [
      "            BHARTIARTL.NS_Open  BHARTIARTL.NS_High  BHARTIARTL.NS_Low  \\\nDate                                                                    \n2015-03-02            5.790409            5.809039           5.759629   \n2015-03-03            5.772570            5.774282           5.754406   \n2015-03-04            5.778268            5.796286           5.770568   \n2015-03-05            5.776562            5.777983           5.755423   \n2015-03-09            5.763240            5.763240           5.740931   \n\n            BHARTIARTL.NS_Volume  PREDICTION_BHARTIARTL.NS_Close  \nDate                                                              \n2015-03-02             15.327270                        5.770424  \n2015-03-03             14.626981                        5.776135  \n2015-03-04             15.103772                        5.766552  \n2015-03-05             15.152544                        5.753678  \n2015-03-09             15.138171                        5.822583  \n"
     ]
    }
   ],
   "source": [
    "nn.build_network(train_dataset, hidden_layers=3, prediction_window=1, learning_rate=0.001, momentum=0.1)"
   ]
  },
  {
   "cell_type": "code",
   "execution_count": 69,
   "metadata": {
    "collapsed": true
   },
   "outputs": [],
   "source": [
    "train_intervals= 15"
   ]
  },
  {
   "cell_type": "code",
   "execution_count": 70,
   "metadata": {},
   "outputs": [
    {
     "output_type": "execute_result",
     "data": {
      "text/plain": [
       "['BHARTIARTL.NS_Open',\n",
       " 'BHARTIARTL.NS_High',\n",
       " 'BHARTIARTL.NS_Low',\n",
       " 'BHARTIARTL.NS_Volume']"
      ]
     },
     "metadata": {},
     "execution_count": 70
    }
   ],
   "source": [
    "nn.train_data"
   ]
  },
  {
   "cell_type": "code",
   "execution_count": 71,
   "metadata": {},
   "outputs": [
    {
     "output_type": "stream",
     "name": "stdout",
     "text": [
      "Total error:  2.21573856193\n",
      "Total error:  0.0208007749016\n",
      "Total error:  0.0207568912816\n",
      "Total error:  0.0207721012604\n",
      "Total error:  0.0207716589932\n",
      "Total error:  0.0207688257164\n",
      "Total error:  0.0207549614708\n",
      "Total error:  0.020744131913\n",
      "Total error:  0.020711763217\n",
      "Total error:  0.0207442706598\n",
      "Total error:  0.0207511078066\n",
      "Total error:  0.0207378143873\n",
      "Total error:  0.0207423175946\n",
      "Total error:  0.0207046927427\n",
      "Total error:  0.0207127517812\n"
     ]
    }
   ],
   "source": [
    "for i in range(train_intervals): nn.train()"
   ]
  },
  {
   "cell_type": "code",
   "execution_count": 72,
   "metadata": {
    "collapsed": true
   },
   "outputs": [],
   "source": [
    "nn.save_to_file('test.nn')"
   ]
  },
  {
   "cell_type": "code",
   "execution_count": 73,
   "metadata": {
    "collapsed": true
   },
   "outputs": [],
   "source": [
    "nn = neural_network.load_from_file('test.nn')"
   ]
  },
  {
   "cell_type": "code",
   "execution_count": 74,
   "metadata": {
    "collapsed": true
   },
   "outputs": [],
   "source": [
    "test_start = train_end\n",
    "test_end = datetime.fromisoformat(today.isoformat())\n",
    "test_dataset = dataset.Dataset(symbols, YahooConnection(), test_start, test_end)"
   ]
  },
  {
   "cell_type": "code",
   "execution_count": 75,
   "metadata": {
    "collapsed": true
   },
   "outputs": [],
   "source": [
    "test_dataset.load_data()"
   ]
  },
  {
   "cell_type": "code",
   "execution_count": 76,
   "metadata": {
    "collapsed": true
   },
   "outputs": [],
   "source": [
    "neural_network = technical_indicator.NeuralNetwork(nn)"
   ]
  },
  {
   "cell_type": "code",
   "execution_count": 77,
   "metadata": {
    "collapsed": true
   },
   "outputs": [],
   "source": [
    "test_dataset.add_technical_indicator(neural_network)"
   ]
  },
  {
   "cell_type": "code",
   "execution_count": 78,
   "metadata": {
    "collapsed": true
   },
   "outputs": [],
   "source": [
    "threshold_above = technical_indicator.Addition(neural_network.value, 5)"
   ]
  },
  {
   "cell_type": "code",
   "execution_count": 79,
   "metadata": {
    "collapsed": true
   },
   "outputs": [],
   "source": [
    "test_dataset.add_technical_indicator(threshold_above)"
   ]
  },
  {
   "cell_type": "code",
   "execution_count": 80,
   "metadata": {
    "collapsed": true
   },
   "outputs": [],
   "source": [
    "threshold_below = technical_indicator.Subtraction(neural_network.value, 5)\n",
    "test_dataset.add_technical_indicator(threshold_below)"
   ]
  },
  {
   "cell_type": "code",
   "execution_count": 81,
   "metadata": {},
   "outputs": [
    {
     "output_type": "execute_result",
     "data": {
      "text/plain": [
       "            BHARTIARTL.NS_High  BHARTIARTL.NS_Low  BHARTIARTL.NS_Open  \\\n",
       "Date                                                                    \n",
       "2021-02-01          581.099976         549.200012          559.000000   \n",
       "2021-02-02          605.650024         579.250000          584.900024   \n",
       "2021-02-03          622.500000         599.450012          609.400024   \n",
       "2021-02-04          623.000000         595.650024          614.900024   \n",
       "2021-02-05          605.900024         576.250000          603.799988   \n",
       "\n",
       "            BHARTIARTL.NS_Close  BHARTIARTL.NS_Volume  \\\n",
       "Date                                                    \n",
       "2021-02-01           579.150024              13951025   \n",
       "2021-02-02           599.349976              21311866   \n",
       "2021-02-03           608.849976              30076561   \n",
       "2021-02-04           600.599976              51018799   \n",
       "2021-02-05           581.099976              34811620   \n",
       "\n",
       "            BHARTIARTL.NS_Adj Close  \\\n",
       "Date                                  \n",
       "2021-02-01               579.150024   \n",
       "2021-02-02               599.349976   \n",
       "2021-02-03               608.849976   \n",
       "2021-02-04               600.599976   \n",
       "2021-02-05               581.099976   \n",
       "\n",
       "            NEURAL_NETWORK_3bf422fe-921d-40ff-9569-bea6f5f518bf  \\\n",
       "Date                                                              \n",
       "2021-02-01                                         367.434915     \n",
       "2021-02-02                                         367.758092     \n",
       "2021-02-03                                         367.965020     \n",
       "2021-02-04                                         368.215288     \n",
       "2021-02-05                                         368.068553     \n",
       "\n",
       "            ADDITION_NEURAL_NETWORK_3bf422fe-921d-40ff-9569-bea6f5f518bf_5  \\\n",
       "Date                                                                         \n",
       "2021-02-01                                         372.434915                \n",
       "2021-02-02                                         372.758092                \n",
       "2021-02-03                                         372.965020                \n",
       "2021-02-04                                         373.215288                \n",
       "2021-02-05                                         373.068553                \n",
       "\n",
       "            SUBTRACTION_NEURAL_NETWORK_3bf422fe-921d-40ff-9569-bea6f5f518bf_5  \n",
       "Date                                                                           \n",
       "2021-02-01                                         362.434915                  \n",
       "2021-02-02                                         362.758092                  \n",
       "2021-02-03                                         362.965020                  \n",
       "2021-02-04                                         363.215288                  \n",
       "2021-02-05                                         363.068553                  "
      ],
      "text/html": "<div>\n<style scoped>\n    .dataframe tbody tr th:only-of-type {\n        vertical-align: middle;\n    }\n\n    .dataframe tbody tr th {\n        vertical-align: top;\n    }\n\n    .dataframe thead th {\n        text-align: right;\n    }\n</style>\n<table border=\"1\" class=\"dataframe\">\n  <thead>\n    <tr style=\"text-align: right;\">\n      <th></th>\n      <th>BHARTIARTL.NS_High</th>\n      <th>BHARTIARTL.NS_Low</th>\n      <th>BHARTIARTL.NS_Open</th>\n      <th>BHARTIARTL.NS_Close</th>\n      <th>BHARTIARTL.NS_Volume</th>\n      <th>BHARTIARTL.NS_Adj Close</th>\n      <th>NEURAL_NETWORK_3bf422fe-921d-40ff-9569-bea6f5f518bf</th>\n      <th>ADDITION_NEURAL_NETWORK_3bf422fe-921d-40ff-9569-bea6f5f518bf_5</th>\n      <th>SUBTRACTION_NEURAL_NETWORK_3bf422fe-921d-40ff-9569-bea6f5f518bf_5</th>\n    </tr>\n    <tr>\n      <th>Date</th>\n      <th></th>\n      <th></th>\n      <th></th>\n      <th></th>\n      <th></th>\n      <th></th>\n      <th></th>\n      <th></th>\n      <th></th>\n    </tr>\n  </thead>\n  <tbody>\n    <tr>\n      <th>2021-02-01</th>\n      <td>581.099976</td>\n      <td>549.200012</td>\n      <td>559.000000</td>\n      <td>579.150024</td>\n      <td>13951025</td>\n      <td>579.150024</td>\n      <td>367.434915</td>\n      <td>372.434915</td>\n      <td>362.434915</td>\n    </tr>\n    <tr>\n      <th>2021-02-02</th>\n      <td>605.650024</td>\n      <td>579.250000</td>\n      <td>584.900024</td>\n      <td>599.349976</td>\n      <td>21311866</td>\n      <td>599.349976</td>\n      <td>367.758092</td>\n      <td>372.758092</td>\n      <td>362.758092</td>\n    </tr>\n    <tr>\n      <th>2021-02-03</th>\n      <td>622.500000</td>\n      <td>599.450012</td>\n      <td>609.400024</td>\n      <td>608.849976</td>\n      <td>30076561</td>\n      <td>608.849976</td>\n      <td>367.965020</td>\n      <td>372.965020</td>\n      <td>362.965020</td>\n    </tr>\n    <tr>\n      <th>2021-02-04</th>\n      <td>623.000000</td>\n      <td>595.650024</td>\n      <td>614.900024</td>\n      <td>600.599976</td>\n      <td>51018799</td>\n      <td>600.599976</td>\n      <td>368.215288</td>\n      <td>373.215288</td>\n      <td>363.215288</td>\n    </tr>\n    <tr>\n      <th>2021-02-05</th>\n      <td>605.900024</td>\n      <td>576.250000</td>\n      <td>603.799988</td>\n      <td>581.099976</td>\n      <td>34811620</td>\n      <td>581.099976</td>\n      <td>368.068553</td>\n      <td>373.068553</td>\n      <td>363.068553</td>\n    </tr>\n  </tbody>\n</table>\n</div>"
     },
     "metadata": {},
     "execution_count": 81
    }
   ],
   "source": [
    "test_dataset.data_frame.head()"
   ]
  },
  {
   "cell_type": "code",
   "execution_count": 82,
   "metadata": {
    "collapsed": true
   },
   "outputs": [],
   "source": [
    "enter_crit_long = criteria.Below(symbol.close, threshold_below.value)"
   ]
  },
  {
   "cell_type": "code",
   "execution_count": 83,
   "metadata": {
    "collapsed": true
   },
   "outputs": [],
   "source": [
    "enter_crit_short = criteria.Above(symbol.close, threshold_above.value)"
   ]
  },
  {
   "cell_type": "code",
   "execution_count": 84,
   "metadata": {
    "collapsed": true
   },
   "outputs": [],
   "source": [
    "exit_crit_long = criteria.BarsSinceLong(symbol, 1)\n",
    "exit_crit_short = criteria.BarsSinceShort(symbol, 1)"
   ]
  },
  {
   "cell_type": "code",
   "execution_count": 85,
   "metadata": {
    "collapsed": true
   },
   "outputs": [],
   "source": [
    "enter_crit_group1 = criteria_group.CriteriaGroup([enter_crit_long], Long(), symbol)\n",
    "enter_crit_group2 = criteria_group.CriteriaGroup([enter_crit_short], Short(), symbol)\n",
    "exit_crit_group1 = criteria_group.CriteriaGroup([exit_crit_long], LongExit(), symbol)\n",
    "exit_crit_group2 = criteria_group.CriteriaGroup([exit_crit_short], ShortExit(), symbol)"
   ]
  },
  {
   "cell_type": "code",
   "execution_count": 86,
   "metadata": {
    "collapsed": true
   },
   "outputs": [],
   "source": [
    "tp = trading_profile.TradingProfile(100000, trading_amount.StaticAmount(10000), trading_fee.StaticFee(5))"
   ]
  },
  {
   "cell_type": "code",
   "execution_count": 87,
   "metadata": {},
   "outputs": [
    {
     "output_type": "execute_result",
     "data": {
      "text/plain": [
       "            BHARTIARTL.NS_High  BHARTIARTL.NS_Low  BHARTIARTL.NS_Open  \\\n",
       "Date                                                                    \n",
       "2021-02-04          623.000000         595.650024          614.900024   \n",
       "2021-02-05          605.900024         576.250000          603.799988   \n",
       "2021-02-08          603.650024         584.700012          589.000000   \n",
       "2021-02-09          607.750000         595.000000          598.900024   \n",
       "2021-02-10          607.750000         580.250000          604.950012   \n",
       "\n",
       "            BHARTIARTL.NS_Close  BHARTIARTL.NS_Volume  \\\n",
       "Date                                                    \n",
       "2021-02-04           600.599976              51018799   \n",
       "2021-02-05           581.099976              34811620   \n",
       "2021-02-08           597.299988              21247165   \n",
       "2021-02-09           598.950012              20541765   \n",
       "2021-02-10           590.200012              31051947   \n",
       "\n",
       "            BHARTIARTL.NS_Adj Close  \\\n",
       "Date                                  \n",
       "2021-02-04               600.599976   \n",
       "2021-02-05               581.099976   \n",
       "2021-02-08               597.299988   \n",
       "2021-02-09               598.950012   \n",
       "2021-02-10               590.200012   \n",
       "\n",
       "            NEURAL_NETWORK_3bf422fe-921d-40ff-9569-bea6f5f518bf  \\\n",
       "Date                                                              \n",
       "2021-02-04                                         368.215288     \n",
       "2021-02-05                                         368.068553     \n",
       "2021-02-08                                         367.757503     \n",
       "2021-02-09                                         367.724184     \n",
       "2021-02-10                                         368.005972     \n",
       "\n",
       "            ADDITION_NEURAL_NETWORK_3bf422fe-921d-40ff-9569-bea6f5f518bf_5  \\\n",
       "Date                                                                         \n",
       "2021-02-04                                         373.215288                \n",
       "2021-02-05                                         373.068553                \n",
       "2021-02-08                                         372.757503                \n",
       "2021-02-09                                         372.724184                \n",
       "2021-02-10                                         373.005972                \n",
       "\n",
       "            SUBTRACTION_NEURAL_NETWORK_3bf422fe-921d-40ff-9569-bea6f5f518bf_5  \n",
       "Date                                                                           \n",
       "2021-02-04                                         363.215288                  \n",
       "2021-02-05                                         363.068553                  \n",
       "2021-02-08                                         362.757503                  \n",
       "2021-02-09                                         362.724184                  \n",
       "2021-02-10                                         363.005972                  "
      ],
      "text/html": "<div>\n<style scoped>\n    .dataframe tbody tr th:only-of-type {\n        vertical-align: middle;\n    }\n\n    .dataframe tbody tr th {\n        vertical-align: top;\n    }\n\n    .dataframe thead th {\n        text-align: right;\n    }\n</style>\n<table border=\"1\" class=\"dataframe\">\n  <thead>\n    <tr style=\"text-align: right;\">\n      <th></th>\n      <th>BHARTIARTL.NS_High</th>\n      <th>BHARTIARTL.NS_Low</th>\n      <th>BHARTIARTL.NS_Open</th>\n      <th>BHARTIARTL.NS_Close</th>\n      <th>BHARTIARTL.NS_Volume</th>\n      <th>BHARTIARTL.NS_Adj Close</th>\n      <th>NEURAL_NETWORK_3bf422fe-921d-40ff-9569-bea6f5f518bf</th>\n      <th>ADDITION_NEURAL_NETWORK_3bf422fe-921d-40ff-9569-bea6f5f518bf_5</th>\n      <th>SUBTRACTION_NEURAL_NETWORK_3bf422fe-921d-40ff-9569-bea6f5f518bf_5</th>\n    </tr>\n    <tr>\n      <th>Date</th>\n      <th></th>\n      <th></th>\n      <th></th>\n      <th></th>\n      <th></th>\n      <th></th>\n      <th></th>\n      <th></th>\n      <th></th>\n    </tr>\n  </thead>\n  <tbody>\n    <tr>\n      <th>2021-02-04</th>\n      <td>623.000000</td>\n      <td>595.650024</td>\n      <td>614.900024</td>\n      <td>600.599976</td>\n      <td>51018799</td>\n      <td>600.599976</td>\n      <td>368.215288</td>\n      <td>373.215288</td>\n      <td>363.215288</td>\n    </tr>\n    <tr>\n      <th>2021-02-05</th>\n      <td>605.900024</td>\n      <td>576.250000</td>\n      <td>603.799988</td>\n      <td>581.099976</td>\n      <td>34811620</td>\n      <td>581.099976</td>\n      <td>368.068553</td>\n      <td>373.068553</td>\n      <td>363.068553</td>\n    </tr>\n    <tr>\n      <th>2021-02-08</th>\n      <td>603.650024</td>\n      <td>584.700012</td>\n      <td>589.000000</td>\n      <td>597.299988</td>\n      <td>21247165</td>\n      <td>597.299988</td>\n      <td>367.757503</td>\n      <td>372.757503</td>\n      <td>362.757503</td>\n    </tr>\n    <tr>\n      <th>2021-02-09</th>\n      <td>607.750000</td>\n      <td>595.000000</td>\n      <td>598.900024</td>\n      <td>598.950012</td>\n      <td>20541765</td>\n      <td>598.950012</td>\n      <td>367.724184</td>\n      <td>372.724184</td>\n      <td>362.724184</td>\n    </tr>\n    <tr>\n      <th>2021-02-10</th>\n      <td>607.750000</td>\n      <td>580.250000</td>\n      <td>604.950012</td>\n      <td>590.200012</td>\n      <td>31051947</td>\n      <td>590.200012</td>\n      <td>368.005972</td>\n      <td>373.005972</td>\n      <td>363.005972</td>\n    </tr>\n  </tbody>\n</table>\n</div>"
     },
     "metadata": {},
     "execution_count": 87
    }
   ],
   "source": [
    "test_dataset.data_frame.tail()"
   ]
  },
  {
   "cell_type": "code",
   "execution_count": 88,
   "metadata": {},
   "outputs": [],
   "source": [
    "%matplotlib inline\n",
    "import matplotlib.pyplot as plt\n",
    "from nowtrade.figures import Figure"
   ]
  },
  {
   "cell_type": "code",
   "execution_count": 89,
   "metadata": {
    "collapsed": true
   },
   "outputs": [],
   "source": [
    "#test_dataset.data_frame.plot()"
   ]
  },
  {
   "cell_type": "code",
   "execution_count": 90,
   "metadata": {
    "collapsed": true
   },
   "outputs": [],
   "source": [
    "strat = strategy.Strategy(test_dataset, [enter_crit_group1, enter_crit_group2, exit_crit_group1, exit_crit_group2], tp)"
   ]
  },
  {
   "cell_type": "code",
   "execution_count": 91,
   "metadata": {
    "collapsed": true
   },
   "outputs": [],
   "source": [
    "strat.simulate()"
   ]
  },
  {
   "cell_type": "code",
   "execution_count": 92,
   "metadata": {},
   "outputs": [
    {
     "output_type": "stream",
     "name": "stdout",
     "text": [
      "{'average_trading_amount': 15246.025207519531, 'average_fees': 12.5, 'average_slippage': 0.0, 'average_gains': -2.128295524834872, 'average_winner': 0.7202949446449187, 'average_loser': -4.976885994314664, 'average_bars': 2.0, 'profitability': 50.0, 'gross_profit': 73.29937744140625, 'gross_loss': -520.0, 'net_profit': -446.70062255859375, 'winning_trades': 1, 'losing_trades': 1, 'sharpe_ratio': -4.984784761170944, 'total_fees': 25.0, 'total_slippage': 0.0, 'trades': 2, 'lacking_capital': 0, 'ongoing_trades': 1, 'trade_history': {BHARTIARTL.NS: [Trade([Timestamp('2021-02-02 00:00:00'), 'SHORT', BHARTIARTL.NS, 584.9000244140625, 17, 9943.300415039062, 5, 0.0]), Trade([Timestamp('2021-02-04 00:00:00'), 'SHORT_EXIT', BHARTIARTL.NS, 614.9000244140625, 17, 10453.300415039062, 5, 0.0]), Trade([Timestamp('2021-02-05 00:00:00'), 'SHORT', BHARTIARTL.NS, 603.7999877929688, 17, 10264.599792480469, 5, 0.0]), Trade([Timestamp('2021-02-09 00:00:00'), 'SHORT_EXIT', BHARTIARTL.NS, 598.9000244140625, 17, 10181.300415039062, 5, 0.0]), Trade([Timestamp('2021-02-10 00:00:00'), 'SHORT', BHARTIARTL.NS, 604.9500122070312, 17, 10284.150207519531, 5, 0.0])]}, 'available_money_history': Date\n2021-02-01              NaN\n2021-02-02     90051.699585\n2021-02-03              NaN\n2021-02-04    100500.000000\n2021-02-05     90230.400208\n2021-02-08              NaN\n2021-02-09    100406.700623\n2021-02-10     90117.550415\ndtype: float64, 'available_capital_history': Date\n2021-02-01    100000.000000\n2021-02-02    100000.000000\n2021-02-03    100000.000000\n2021-02-04     99480.000000\n2021-02-05     99480.000000\n2021-02-08     99480.000000\n2021-02-09     99553.299377\n2021-02-10     99553.299377\ndtype: float64}\n"
     ]
    }
   ],
   "source": [
    "print(strat.report.overview())"
   ]
  },
  {
   "cell_type": "code",
   "execution_count": 93,
   "metadata": {
    "collapsed": true
   },
   "outputs": [],
   "source": [
    "#fig = Figure(test_dataset, rows=4)"
   ]
  },
  {
   "cell_type": "code",
   "execution_count": 94,
   "metadata": {
    "collapsed": true
   },
   "outputs": [],
   "source": [
    "#fig.add_chart('Date', 1) # First chart holds the googl candlesticks\n",
    "#fig.add_chart('GOOGL_Volume', 2, 'bar') # Second chart holds the volume\n",
    "#fig.add_chart('NEURAL_NETWORK_e6b1f791-8c5c-4d7a-9f34-4e7c1aaa6f8a', 3) # Third chart holds the simple moving averages\n",
    "#fig.add_chart('ADDITION_NEURAL_NETWORK_e6b1f791-8c5c-4d7a-9f34-4e7c1aaa6f8a_5', 4, color='red') # SMA25 will have a red line\n",
    "#fig.add_capital_chart(4) # Show the capital history on the last chart"
   ]
  },
  {
   "cell_type": "code",
   "execution_count": 95,
   "metadata": {
    "collapsed": true
   },
   "outputs": [],
   "source": [
    "#fig.show()"
   ]
  },
  {
   "cell_type": "code",
   "execution_count": 96,
   "metadata": {
    "collapsed": true
   },
   "outputs": [],
   "source": [
    "import matplotlib\n",
    "matplotlib.style.use('ggplot')"
   ]
  },
  {
   "cell_type": "code",
   "execution_count": 97,
   "metadata": {
    "collapsed": true
   },
   "outputs": [],
   "source": [
    "#test_dataset.data_frame['Date']\n",
    "n_net='NEURAL_NETWORK_'+neural_network.name"
   ]
  },
  {
   "cell_type": "code",
   "execution_count": 98,
   "metadata": {
    "collapsed": true
   },
   "outputs": [],
   "source": [
    "#plt.figure();\n",
    "z=test_dataset.data_frame.loc[:,[symbol.volume,symbol.close,n_net]]\n"
   ]
  },
  {
   "cell_type": "code",
   "execution_count": 99,
   "metadata": {},
   "outputs": [
    {
     "output_type": "execute_result",
     "data": {
      "text/plain": [
       "            BHARTIARTL.NS_Volume  BHARTIARTL.NS_Close  \\\n",
       "Date                                                    \n",
       "2021-02-01              13951025           579.150024   \n",
       "2021-02-02              21311866           599.349976   \n",
       "2021-02-03              30076561           608.849976   \n",
       "2021-02-04              51018799           600.599976   \n",
       "2021-02-05              34811620           581.099976   \n",
       "2021-02-08              21247165           597.299988   \n",
       "2021-02-09              20541765           598.950012   \n",
       "2021-02-10              31051947           590.200012   \n",
       "\n",
       "            NEURAL_NETWORK_3bf422fe-921d-40ff-9569-bea6f5f518bf  \n",
       "Date                                                             \n",
       "2021-02-01                                         367.434915    \n",
       "2021-02-02                                         367.758092    \n",
       "2021-02-03                                         367.965020    \n",
       "2021-02-04                                         368.215288    \n",
       "2021-02-05                                         368.068553    \n",
       "2021-02-08                                         367.757503    \n",
       "2021-02-09                                         367.724184    \n",
       "2021-02-10                                         368.005972    "
      ],
      "text/html": "<div>\n<style scoped>\n    .dataframe tbody tr th:only-of-type {\n        vertical-align: middle;\n    }\n\n    .dataframe tbody tr th {\n        vertical-align: top;\n    }\n\n    .dataframe thead th {\n        text-align: right;\n    }\n</style>\n<table border=\"1\" class=\"dataframe\">\n  <thead>\n    <tr style=\"text-align: right;\">\n      <th></th>\n      <th>BHARTIARTL.NS_Volume</th>\n      <th>BHARTIARTL.NS_Close</th>\n      <th>NEURAL_NETWORK_3bf422fe-921d-40ff-9569-bea6f5f518bf</th>\n    </tr>\n    <tr>\n      <th>Date</th>\n      <th></th>\n      <th></th>\n      <th></th>\n    </tr>\n  </thead>\n  <tbody>\n    <tr>\n      <th>2021-02-01</th>\n      <td>13951025</td>\n      <td>579.150024</td>\n      <td>367.434915</td>\n    </tr>\n    <tr>\n      <th>2021-02-02</th>\n      <td>21311866</td>\n      <td>599.349976</td>\n      <td>367.758092</td>\n    </tr>\n    <tr>\n      <th>2021-02-03</th>\n      <td>30076561</td>\n      <td>608.849976</td>\n      <td>367.965020</td>\n    </tr>\n    <tr>\n      <th>2021-02-04</th>\n      <td>51018799</td>\n      <td>600.599976</td>\n      <td>368.215288</td>\n    </tr>\n    <tr>\n      <th>2021-02-05</th>\n      <td>34811620</td>\n      <td>581.099976</td>\n      <td>368.068553</td>\n    </tr>\n    <tr>\n      <th>2021-02-08</th>\n      <td>21247165</td>\n      <td>597.299988</td>\n      <td>367.757503</td>\n    </tr>\n    <tr>\n      <th>2021-02-09</th>\n      <td>20541765</td>\n      <td>598.950012</td>\n      <td>367.724184</td>\n    </tr>\n    <tr>\n      <th>2021-02-10</th>\n      <td>31051947</td>\n      <td>590.200012</td>\n      <td>368.005972</td>\n    </tr>\n  </tbody>\n</table>\n</div>"
     },
     "metadata": {},
     "execution_count": 99
    }
   ],
   "source": [
    "z"
   ]
  },
  {
   "cell_type": "code",
   "execution_count": 100,
   "metadata": {
    "collapsed": true
   },
   "outputs": [],
   "source": [
    "from sklearn import preprocessing\n",
    "from sklearn.preprocessing import MinMaxScaler\n",
    "import numpy as np"
   ]
  },
  {
   "cell_type": "code",
   "execution_count": 101,
   "metadata": {
    "collapsed": true
   },
   "outputs": [],
   "source": [
    "mms=MinMaxScaler()"
   ]
  },
  {
   "cell_type": "code",
   "execution_count": 102,
   "metadata": {},
   "outputs": [],
   "source": [
    "G_Close_min_max=mms.fit_transform(np.array(z[symbol.close]).reshape(1,-1))"
   ]
  },
  {
   "cell_type": "code",
   "execution_count": 103,
   "metadata": {},
   "outputs": [],
   "source": [
    "NN_Close_predict=mms.fit_transform(np.array(test_dataset.data_frame[n_net]).reshape(1,-1))"
   ]
  },
  {
   "cell_type": "code",
   "execution_count": 104,
   "metadata": {
    "collapsed": true
   },
   "outputs": [],
   "source": [
    "import pandas as pd"
   ]
  },
  {
   "cell_type": "code",
   "execution_count": 105,
   "metadata": {
    "collapsed": true
   },
   "outputs": [],
   "source": [
    "z['NN_Predict']=test_dataset.data_frame[n_net]"
   ]
  },
  {
   "cell_type": "code",
   "execution_count": 106,
   "metadata": {
    "collapsed": true
   },
   "outputs": [],
   "source": [
    "z=z.drop(n_net,1)"
   ]
  },
  {
   "cell_type": "code",
   "execution_count": 107,
   "metadata": {
    "collapsed": true
   },
   "outputs": [],
   "source": [
    "#z=z.drop('Date',1)"
   ]
  },
  {
   "cell_type": "code",
   "execution_count": 108,
   "metadata": {
    "collapsed": true
   },
   "outputs": [],
   "source": [
    "zz=pd.DataFrame(mms.fit_transform(z))"
   ]
  },
  {
   "cell_type": "code",
   "execution_count": 109,
   "metadata": {
    "collapsed": true
   },
   "outputs": [],
   "source": [
    "zz.columns=z.columns"
   ]
  },
  {
   "cell_type": "code",
   "execution_count": 110,
   "metadata": {
    "collapsed": true
   },
   "outputs": [],
   "source": [
    "zz=zz.set_index(z.index)"
   ]
  },
  {
   "cell_type": "code",
   "execution_count": 111,
   "metadata": {},
   "outputs": [
    {
     "output_type": "execute_result",
     "data": {
      "text/plain": [
       "            BHARTIARTL.NS_Volume  BHARTIARTL.NS_Close  NN_Predict\n",
       "Date                                                             \n",
       "2021-02-01              0.000000             0.000000    0.000000\n",
       "2021-02-02              0.198578             0.680134    0.414131\n",
       "2021-02-03              0.435028             1.000000    0.679297\n",
       "2021-02-04              1.000000             0.722222    1.000000\n",
       "2021-02-05              0.562769             0.065655    0.811968"
      ],
      "text/html": "<div>\n<style scoped>\n    .dataframe tbody tr th:only-of-type {\n        vertical-align: middle;\n    }\n\n    .dataframe tbody tr th {\n        vertical-align: top;\n    }\n\n    .dataframe thead th {\n        text-align: right;\n    }\n</style>\n<table border=\"1\" class=\"dataframe\">\n  <thead>\n    <tr style=\"text-align: right;\">\n      <th></th>\n      <th>BHARTIARTL.NS_Volume</th>\n      <th>BHARTIARTL.NS_Close</th>\n      <th>NN_Predict</th>\n    </tr>\n    <tr>\n      <th>Date</th>\n      <th></th>\n      <th></th>\n      <th></th>\n    </tr>\n  </thead>\n  <tbody>\n    <tr>\n      <th>2021-02-01</th>\n      <td>0.000000</td>\n      <td>0.000000</td>\n      <td>0.000000</td>\n    </tr>\n    <tr>\n      <th>2021-02-02</th>\n      <td>0.198578</td>\n      <td>0.680134</td>\n      <td>0.414131</td>\n    </tr>\n    <tr>\n      <th>2021-02-03</th>\n      <td>0.435028</td>\n      <td>1.000000</td>\n      <td>0.679297</td>\n    </tr>\n    <tr>\n      <th>2021-02-04</th>\n      <td>1.000000</td>\n      <td>0.722222</td>\n      <td>1.000000</td>\n    </tr>\n    <tr>\n      <th>2021-02-05</th>\n      <td>0.562769</td>\n      <td>0.065655</td>\n      <td>0.811968</td>\n    </tr>\n  </tbody>\n</table>\n</div>"
     },
     "metadata": {},
     "execution_count": 111
    }
   ],
   "source": [
    "zz.head()"
   ]
  },
  {
   "cell_type": "code",
   "execution_count": 112,
   "metadata": {},
   "outputs": [
    {
     "output_type": "execute_result",
     "data": {
      "text/plain": [
       "<AxesSubplot:xlabel='Date'>"
      ]
     },
     "metadata": {},
     "execution_count": 112
    },
    {
     "output_type": "display_data",
     "data": {
      "text/plain": "<Figure size 432x288 with 1 Axes>",
      "image/svg+xml": "<?xml version=\"1.0\" encoding=\"utf-8\" standalone=\"no\"?>\n<!DOCTYPE svg PUBLIC \"-//W3C//DTD SVG 1.1//EN\"\n  \"http://www.w3.org/Graphics/SVG/1.1/DTD/svg11.dtd\">\n<!-- Created with matplotlib (https://matplotlib.org/) -->\n<svg height=\"286.5275pt\" version=\"1.1\" viewBox=\"0 0 378.465625 286.5275\" width=\"378.465625pt\" xmlns=\"http://www.w3.org/2000/svg\" xmlns:xlink=\"http://www.w3.org/1999/xlink\">\n <metadata>\n  <rdf:RDF xmlns:cc=\"http://creativecommons.org/ns#\" xmlns:dc=\"http://purl.org/dc/elements/1.1/\" xmlns:rdf=\"http://www.w3.org/1999/02/22-rdf-syntax-ns#\">\n   <cc:Work>\n    <dc:type rdf:resource=\"http://purl.org/dc/dcmitype/StillImage\"/>\n    <dc:date>2021-02-10T17:03:56.181418</dc:date>\n    <dc:format>image/svg+xml</dc:format>\n    <dc:creator>\n     <cc:Agent>\n      <dc:title>Matplotlib v3.3.4, https://matplotlib.org/</dc:title>\n     </cc:Agent>\n    </dc:creator>\n   </cc:Work>\n  </rdf:RDF>\n </metadata>\n <defs>\n  <style type=\"text/css\">*{stroke-linecap:butt;stroke-linejoin:round;}</style>\n </defs>\n <g id=\"figure_1\">\n  <g id=\"patch_1\">\n   <path d=\"M 0 286.5275 \nL 378.465625 286.5275 \nL 378.465625 -0 \nL 0 -0 \nz\n\" style=\"fill:#ffffff;\"/>\n  </g>\n  <g id=\"axes_1\">\n   <g id=\"patch_2\">\n    <path d=\"M 30.103125 224.64 \nL 364.903125 224.64 \nL 364.903125 7.2 \nL 30.103125 7.2 \nz\n\" style=\"fill:#e5e5e5;\"/>\n   </g>\n   <g id=\"matplotlib.axis_1\">\n    <g id=\"xtick_1\">\n     <g id=\"line2d_1\">\n      <path clip-path=\"url(#p3c49ac5b24)\" d=\"M 30.103125 224.64 \nL 30.103125 7.2 \n\" style=\"fill:none;stroke:#ffffff;stroke-linecap:square;stroke-width:0.8;\"/>\n     </g>\n     <g id=\"line2d_2\">\n      <defs>\n       <path d=\"M 0 0 \nL 0 3.5 \n\" id=\"m9d96cd7fe7\" style=\"stroke:#555555;stroke-width:0.8;\"/>\n      </defs>\n      <g>\n       <use style=\"fill:#555555;stroke:#555555;stroke-width:0.8;\" x=\"30.103125\" xlink:href=\"#m9d96cd7fe7\" y=\"224.64\"/>\n      </g>\n     </g>\n     <g id=\"text_1\">\n      <!-- 01 -->\n      <g style=\"fill:#555555;\" transform=\"translate(23.740625 239.238437)scale(0.1 -0.1)\">\n       <defs>\n        <path d=\"M 31.78125 66.40625 \nQ 24.171875 66.40625 20.328125 58.90625 \nQ 16.5 51.421875 16.5 36.375 \nQ 16.5 21.390625 20.328125 13.890625 \nQ 24.171875 6.390625 31.78125 6.390625 \nQ 39.453125 6.390625 43.28125 13.890625 \nQ 47.125 21.390625 47.125 36.375 \nQ 47.125 51.421875 43.28125 58.90625 \nQ 39.453125 66.40625 31.78125 66.40625 \nz\nM 31.78125 74.21875 \nQ 44.046875 74.21875 50.515625 64.515625 \nQ 56.984375 54.828125 56.984375 36.375 \nQ 56.984375 17.96875 50.515625 8.265625 \nQ 44.046875 -1.421875 31.78125 -1.421875 \nQ 19.53125 -1.421875 13.0625 8.265625 \nQ 6.59375 17.96875 6.59375 36.375 \nQ 6.59375 54.828125 13.0625 64.515625 \nQ 19.53125 74.21875 31.78125 74.21875 \nz\n\" id=\"DejaVuSans-48\"/>\n        <path d=\"M 12.40625 8.296875 \nL 28.515625 8.296875 \nL 28.515625 63.921875 \nL 10.984375 60.40625 \nL 10.984375 69.390625 \nL 28.421875 72.90625 \nL 38.28125 72.90625 \nL 38.28125 8.296875 \nL 54.390625 8.296875 \nL 54.390625 0 \nL 12.40625 0 \nz\n\" id=\"DejaVuSans-49\"/>\n       </defs>\n       <use xlink:href=\"#DejaVuSans-48\"/>\n       <use x=\"63.623047\" xlink:href=\"#DejaVuSans-49\"/>\n      </g>\n      <!-- Feb -->\n      <g style=\"fill:#555555;\" transform=\"translate(21.251563 250.43625)scale(0.1 -0.1)\">\n       <defs>\n        <path d=\"M 9.8125 72.90625 \nL 51.703125 72.90625 \nL 51.703125 64.59375 \nL 19.671875 64.59375 \nL 19.671875 43.109375 \nL 48.578125 43.109375 \nL 48.578125 34.8125 \nL 19.671875 34.8125 \nL 19.671875 0 \nL 9.8125 0 \nz\n\" id=\"DejaVuSans-70\"/>\n        <path d=\"M 56.203125 29.59375 \nL 56.203125 25.203125 \nL 14.890625 25.203125 \nQ 15.484375 15.921875 20.484375 11.0625 \nQ 25.484375 6.203125 34.421875 6.203125 \nQ 39.59375 6.203125 44.453125 7.46875 \nQ 49.3125 8.734375 54.109375 11.28125 \nL 54.109375 2.78125 \nQ 49.265625 0.734375 44.1875 -0.34375 \nQ 39.109375 -1.421875 33.890625 -1.421875 \nQ 20.796875 -1.421875 13.15625 6.1875 \nQ 5.515625 13.8125 5.515625 26.8125 \nQ 5.515625 40.234375 12.765625 48.109375 \nQ 20.015625 56 32.328125 56 \nQ 43.359375 56 49.78125 48.890625 \nQ 56.203125 41.796875 56.203125 29.59375 \nz\nM 47.21875 32.234375 \nQ 47.125 39.59375 43.09375 43.984375 \nQ 39.0625 48.390625 32.421875 48.390625 \nQ 24.90625 48.390625 20.390625 44.140625 \nQ 15.875 39.890625 15.1875 32.171875 \nz\n\" id=\"DejaVuSans-101\"/>\n        <path d=\"M 48.6875 27.296875 \nQ 48.6875 37.203125 44.609375 42.84375 \nQ 40.53125 48.484375 33.40625 48.484375 \nQ 26.265625 48.484375 22.1875 42.84375 \nQ 18.109375 37.203125 18.109375 27.296875 \nQ 18.109375 17.390625 22.1875 11.75 \nQ 26.265625 6.109375 33.40625 6.109375 \nQ 40.53125 6.109375 44.609375 11.75 \nQ 48.6875 17.390625 48.6875 27.296875 \nz\nM 18.109375 46.390625 \nQ 20.953125 51.265625 25.265625 53.625 \nQ 29.59375 56 35.59375 56 \nQ 45.5625 56 51.78125 48.09375 \nQ 58.015625 40.1875 58.015625 27.296875 \nQ 58.015625 14.40625 51.78125 6.484375 \nQ 45.5625 -1.421875 35.59375 -1.421875 \nQ 29.59375 -1.421875 25.265625 0.953125 \nQ 20.953125 3.328125 18.109375 8.203125 \nL 18.109375 0 \nL 9.078125 0 \nL 9.078125 75.984375 \nL 18.109375 75.984375 \nz\n\" id=\"DejaVuSans-98\"/>\n       </defs>\n       <use xlink:href=\"#DejaVuSans-70\"/>\n       <use x=\"52.019531\" xlink:href=\"#DejaVuSans-101\"/>\n       <use x=\"113.542969\" xlink:href=\"#DejaVuSans-98\"/>\n      </g>\n      <!-- 2021 -->\n      <g style=\"fill:#555555;\" transform=\"translate(17.378125 261.634062)scale(0.1 -0.1)\">\n       <defs>\n        <path d=\"M 19.1875 8.296875 \nL 53.609375 8.296875 \nL 53.609375 0 \nL 7.328125 0 \nL 7.328125 8.296875 \nQ 12.9375 14.109375 22.625 23.890625 \nQ 32.328125 33.6875 34.8125 36.53125 \nQ 39.546875 41.84375 41.421875 45.53125 \nQ 43.3125 49.21875 43.3125 52.78125 \nQ 43.3125 58.59375 39.234375 62.25 \nQ 35.15625 65.921875 28.609375 65.921875 \nQ 23.96875 65.921875 18.8125 64.3125 \nQ 13.671875 62.703125 7.8125 59.421875 \nL 7.8125 69.390625 \nQ 13.765625 71.78125 18.9375 73 \nQ 24.125 74.21875 28.421875 74.21875 \nQ 39.75 74.21875 46.484375 68.546875 \nQ 53.21875 62.890625 53.21875 53.421875 \nQ 53.21875 48.921875 51.53125 44.890625 \nQ 49.859375 40.875 45.40625 35.40625 \nQ 44.1875 33.984375 37.640625 27.21875 \nQ 31.109375 20.453125 19.1875 8.296875 \nz\n\" id=\"DejaVuSans-50\"/>\n       </defs>\n       <use xlink:href=\"#DejaVuSans-50\"/>\n       <use x=\"63.623047\" xlink:href=\"#DejaVuSans-48\"/>\n       <use x=\"127.246094\" xlink:href=\"#DejaVuSans-50\"/>\n       <use x=\"190.869141\" xlink:href=\"#DejaVuSans-49\"/>\n      </g>\n     </g>\n    </g>\n    <g id=\"xtick_2\">\n     <g id=\"line2d_3\">\n      <path clip-path=\"url(#p3c49ac5b24)\" d=\"M 364.903125 224.64 \nL 364.903125 7.2 \n\" style=\"fill:none;stroke:#ffffff;stroke-linecap:square;stroke-width:0.8;\"/>\n     </g>\n     <g id=\"line2d_4\">\n      <g>\n       <use style=\"fill:#555555;stroke:#555555;stroke-width:0.8;\" x=\"364.903125\" xlink:href=\"#m9d96cd7fe7\" y=\"224.64\"/>\n      </g>\n     </g>\n     <g id=\"text_2\">\n      <!-- 10 -->\n      <g style=\"fill:#555555;\" transform=\"translate(358.540625 239.238437)scale(0.1 -0.1)\">\n       <use xlink:href=\"#DejaVuSans-49\"/>\n       <use x=\"63.623047\" xlink:href=\"#DejaVuSans-48\"/>\n      </g>\n     </g>\n    </g>\n    <g id=\"xtick_3\">\n     <g id=\"line2d_5\">\n      <defs>\n       <path d=\"M 0 0 \nL 0 2 \n\" id=\"m9564080b6b\" style=\"stroke:#555555;stroke-width:0.6;\"/>\n      </defs>\n      <g>\n       <use style=\"fill:#555555;stroke:#555555;stroke-width:0.6;\" x=\"77.931696\" xlink:href=\"#m9564080b6b\" y=\"224.64\"/>\n      </g>\n     </g>\n     <g id=\"text_3\">\n      <!-- 02 -->\n      <g style=\"fill:#555555;\" transform=\"translate(71.569196 237.638437)scale(0.1 -0.1)\">\n       <use xlink:href=\"#DejaVuSans-48\"/>\n       <use x=\"63.623047\" xlink:href=\"#DejaVuSans-50\"/>\n      </g>\n     </g>\n    </g>\n    <g id=\"xtick_4\">\n     <g id=\"line2d_6\">\n      <g>\n       <use style=\"fill:#555555;stroke:#555555;stroke-width:0.6;\" x=\"125.760268\" xlink:href=\"#m9564080b6b\" y=\"224.64\"/>\n      </g>\n     </g>\n     <g id=\"text_4\">\n      <!-- 03 -->\n      <g style=\"fill:#555555;\" transform=\"translate(119.397768 237.638437)scale(0.1 -0.1)\">\n       <defs>\n        <path d=\"M 40.578125 39.3125 \nQ 47.65625 37.796875 51.625 33 \nQ 55.609375 28.21875 55.609375 21.1875 \nQ 55.609375 10.40625 48.1875 4.484375 \nQ 40.765625 -1.421875 27.09375 -1.421875 \nQ 22.515625 -1.421875 17.65625 -0.515625 \nQ 12.796875 0.390625 7.625 2.203125 \nL 7.625 11.71875 \nQ 11.71875 9.328125 16.59375 8.109375 \nQ 21.484375 6.890625 26.8125 6.890625 \nQ 36.078125 6.890625 40.9375 10.546875 \nQ 45.796875 14.203125 45.796875 21.1875 \nQ 45.796875 27.640625 41.28125 31.265625 \nQ 36.765625 34.90625 28.71875 34.90625 \nL 20.21875 34.90625 \nL 20.21875 43.015625 \nL 29.109375 43.015625 \nQ 36.375 43.015625 40.234375 45.921875 \nQ 44.09375 48.828125 44.09375 54.296875 \nQ 44.09375 59.90625 40.109375 62.90625 \nQ 36.140625 65.921875 28.71875 65.921875 \nQ 24.65625 65.921875 20.015625 65.03125 \nQ 15.375 64.15625 9.8125 62.3125 \nL 9.8125 71.09375 \nQ 15.4375 72.65625 20.34375 73.4375 \nQ 25.25 74.21875 29.59375 74.21875 \nQ 40.828125 74.21875 47.359375 69.109375 \nQ 53.90625 64.015625 53.90625 55.328125 \nQ 53.90625 49.265625 50.4375 45.09375 \nQ 46.96875 40.921875 40.578125 39.3125 \nz\n\" id=\"DejaVuSans-51\"/>\n       </defs>\n       <use xlink:href=\"#DejaVuSans-48\"/>\n       <use x=\"63.623047\" xlink:href=\"#DejaVuSans-51\"/>\n      </g>\n     </g>\n    </g>\n    <g id=\"xtick_5\">\n     <g id=\"line2d_7\">\n      <g>\n       <use style=\"fill:#555555;stroke:#555555;stroke-width:0.6;\" x=\"173.588839\" xlink:href=\"#m9564080b6b\" y=\"224.64\"/>\n      </g>\n     </g>\n     <g id=\"text_5\">\n      <!-- 04 -->\n      <g style=\"fill:#555555;\" transform=\"translate(167.226339 237.638437)scale(0.1 -0.1)\">\n       <defs>\n        <path d=\"M 37.796875 64.3125 \nL 12.890625 25.390625 \nL 37.796875 25.390625 \nz\nM 35.203125 72.90625 \nL 47.609375 72.90625 \nL 47.609375 25.390625 \nL 58.015625 25.390625 \nL 58.015625 17.1875 \nL 47.609375 17.1875 \nL 47.609375 0 \nL 37.796875 0 \nL 37.796875 17.1875 \nL 4.890625 17.1875 \nL 4.890625 26.703125 \nz\n\" id=\"DejaVuSans-52\"/>\n       </defs>\n       <use xlink:href=\"#DejaVuSans-48\"/>\n       <use x=\"63.623047\" xlink:href=\"#DejaVuSans-52\"/>\n      </g>\n     </g>\n    </g>\n    <g id=\"xtick_6\">\n     <g id=\"line2d_8\">\n      <g>\n       <use style=\"fill:#555555;stroke:#555555;stroke-width:0.6;\" x=\"221.417411\" xlink:href=\"#m9564080b6b\" y=\"224.64\"/>\n      </g>\n     </g>\n     <g id=\"text_6\">\n      <!-- 05 -->\n      <g style=\"fill:#555555;\" transform=\"translate(215.054911 237.638437)scale(0.1 -0.1)\">\n       <defs>\n        <path d=\"M 10.796875 72.90625 \nL 49.515625 72.90625 \nL 49.515625 64.59375 \nL 19.828125 64.59375 \nL 19.828125 46.734375 \nQ 21.96875 47.46875 24.109375 47.828125 \nQ 26.265625 48.1875 28.421875 48.1875 \nQ 40.625 48.1875 47.75 41.5 \nQ 54.890625 34.8125 54.890625 23.390625 \nQ 54.890625 11.625 47.5625 5.09375 \nQ 40.234375 -1.421875 26.90625 -1.421875 \nQ 22.3125 -1.421875 17.546875 -0.640625 \nQ 12.796875 0.140625 7.71875 1.703125 \nL 7.71875 11.625 \nQ 12.109375 9.234375 16.796875 8.0625 \nQ 21.484375 6.890625 26.703125 6.890625 \nQ 35.15625 6.890625 40.078125 11.328125 \nQ 45.015625 15.765625 45.015625 23.390625 \nQ 45.015625 31 40.078125 35.4375 \nQ 35.15625 39.890625 26.703125 39.890625 \nQ 22.75 39.890625 18.8125 39.015625 \nQ 14.890625 38.140625 10.796875 36.28125 \nz\n\" id=\"DejaVuSans-53\"/>\n       </defs>\n       <use xlink:href=\"#DejaVuSans-48\"/>\n       <use x=\"63.623047\" xlink:href=\"#DejaVuSans-53\"/>\n      </g>\n     </g>\n    </g>\n    <g id=\"xtick_7\">\n     <g id=\"line2d_9\">\n      <g>\n       <use style=\"fill:#555555;stroke:#555555;stroke-width:0.6;\" x=\"269.245982\" xlink:href=\"#m9564080b6b\" y=\"224.64\"/>\n      </g>\n     </g>\n     <g id=\"text_7\">\n      <!-- 08 -->\n      <g style=\"fill:#555555;\" transform=\"translate(262.883482 237.638437)scale(0.1 -0.1)\">\n       <defs>\n        <path d=\"M 31.78125 34.625 \nQ 24.75 34.625 20.71875 30.859375 \nQ 16.703125 27.09375 16.703125 20.515625 \nQ 16.703125 13.921875 20.71875 10.15625 \nQ 24.75 6.390625 31.78125 6.390625 \nQ 38.8125 6.390625 42.859375 10.171875 \nQ 46.921875 13.96875 46.921875 20.515625 \nQ 46.921875 27.09375 42.890625 30.859375 \nQ 38.875 34.625 31.78125 34.625 \nz\nM 21.921875 38.8125 \nQ 15.578125 40.375 12.03125 44.71875 \nQ 8.5 49.078125 8.5 55.328125 \nQ 8.5 64.0625 14.71875 69.140625 \nQ 20.953125 74.21875 31.78125 74.21875 \nQ 42.671875 74.21875 48.875 69.140625 \nQ 55.078125 64.0625 55.078125 55.328125 \nQ 55.078125 49.078125 51.53125 44.71875 \nQ 48 40.375 41.703125 38.8125 \nQ 48.828125 37.15625 52.796875 32.3125 \nQ 56.78125 27.484375 56.78125 20.515625 \nQ 56.78125 9.90625 50.3125 4.234375 \nQ 43.84375 -1.421875 31.78125 -1.421875 \nQ 19.734375 -1.421875 13.25 4.234375 \nQ 6.78125 9.90625 6.78125 20.515625 \nQ 6.78125 27.484375 10.78125 32.3125 \nQ 14.796875 37.15625 21.921875 38.8125 \nz\nM 18.3125 54.390625 \nQ 18.3125 48.734375 21.84375 45.5625 \nQ 25.390625 42.390625 31.78125 42.390625 \nQ 38.140625 42.390625 41.71875 45.5625 \nQ 45.3125 48.734375 45.3125 54.390625 \nQ 45.3125 60.0625 41.71875 63.234375 \nQ 38.140625 66.40625 31.78125 66.40625 \nQ 25.390625 66.40625 21.84375 63.234375 \nQ 18.3125 60.0625 18.3125 54.390625 \nz\n\" id=\"DejaVuSans-56\"/>\n       </defs>\n       <use xlink:href=\"#DejaVuSans-48\"/>\n       <use x=\"63.623047\" xlink:href=\"#DejaVuSans-56\"/>\n      </g>\n     </g>\n    </g>\n    <g id=\"xtick_8\">\n     <g id=\"line2d_10\">\n      <g>\n       <use style=\"fill:#555555;stroke:#555555;stroke-width:0.6;\" x=\"317.074554\" xlink:href=\"#m9564080b6b\" y=\"224.64\"/>\n      </g>\n     </g>\n     <g id=\"text_8\">\n      <!-- 09 -->\n      <g style=\"fill:#555555;\" transform=\"translate(310.712054 237.638437)scale(0.1 -0.1)\">\n       <defs>\n        <path d=\"M 10.984375 1.515625 \nL 10.984375 10.5 \nQ 14.703125 8.734375 18.5 7.8125 \nQ 22.3125 6.890625 25.984375 6.890625 \nQ 35.75 6.890625 40.890625 13.453125 \nQ 46.046875 20.015625 46.78125 33.40625 \nQ 43.953125 29.203125 39.59375 26.953125 \nQ 35.25 24.703125 29.984375 24.703125 \nQ 19.046875 24.703125 12.671875 31.3125 \nQ 6.296875 37.9375 6.296875 49.421875 \nQ 6.296875 60.640625 12.9375 67.421875 \nQ 19.578125 74.21875 30.609375 74.21875 \nQ 43.265625 74.21875 49.921875 64.515625 \nQ 56.59375 54.828125 56.59375 36.375 \nQ 56.59375 19.140625 48.40625 8.859375 \nQ 40.234375 -1.421875 26.421875 -1.421875 \nQ 22.703125 -1.421875 18.890625 -0.6875 \nQ 15.09375 0.046875 10.984375 1.515625 \nz\nM 30.609375 32.421875 \nQ 37.25 32.421875 41.125 36.953125 \nQ 45.015625 41.5 45.015625 49.421875 \nQ 45.015625 57.28125 41.125 61.84375 \nQ 37.25 66.40625 30.609375 66.40625 \nQ 23.96875 66.40625 20.09375 61.84375 \nQ 16.21875 57.28125 16.21875 49.421875 \nQ 16.21875 41.5 20.09375 36.953125 \nQ 23.96875 32.421875 30.609375 32.421875 \nz\n\" id=\"DejaVuSans-57\"/>\n       </defs>\n       <use xlink:href=\"#DejaVuSans-48\"/>\n       <use x=\"63.623047\" xlink:href=\"#DejaVuSans-57\"/>\n      </g>\n     </g>\n    </g>\n    <g id=\"text_9\">\n     <!-- Date -->\n     <g style=\"fill:#555555;\" transform=\"translate(183.162188 276.831875)scale(0.12 -0.12)\">\n      <defs>\n       <path d=\"M 19.671875 64.796875 \nL 19.671875 8.109375 \nL 31.59375 8.109375 \nQ 46.6875 8.109375 53.6875 14.9375 \nQ 60.6875 21.78125 60.6875 36.53125 \nQ 60.6875 51.171875 53.6875 57.984375 \nQ 46.6875 64.796875 31.59375 64.796875 \nz\nM 9.8125 72.90625 \nL 30.078125 72.90625 \nQ 51.265625 72.90625 61.171875 64.09375 \nQ 71.09375 55.28125 71.09375 36.53125 \nQ 71.09375 17.671875 61.125 8.828125 \nQ 51.171875 0 30.078125 0 \nL 9.8125 0 \nz\n\" id=\"DejaVuSans-68\"/>\n       <path d=\"M 34.28125 27.484375 \nQ 23.390625 27.484375 19.1875 25 \nQ 14.984375 22.515625 14.984375 16.5 \nQ 14.984375 11.71875 18.140625 8.90625 \nQ 21.296875 6.109375 26.703125 6.109375 \nQ 34.1875 6.109375 38.703125 11.40625 \nQ 43.21875 16.703125 43.21875 25.484375 \nL 43.21875 27.484375 \nz\nM 52.203125 31.203125 \nL 52.203125 0 \nL 43.21875 0 \nL 43.21875 8.296875 \nQ 40.140625 3.328125 35.546875 0.953125 \nQ 30.953125 -1.421875 24.3125 -1.421875 \nQ 15.921875 -1.421875 10.953125 3.296875 \nQ 6 8.015625 6 15.921875 \nQ 6 25.140625 12.171875 29.828125 \nQ 18.359375 34.515625 30.609375 34.515625 \nL 43.21875 34.515625 \nL 43.21875 35.40625 \nQ 43.21875 41.609375 39.140625 45 \nQ 35.0625 48.390625 27.6875 48.390625 \nQ 23 48.390625 18.546875 47.265625 \nQ 14.109375 46.140625 10.015625 43.890625 \nL 10.015625 52.203125 \nQ 14.9375 54.109375 19.578125 55.046875 \nQ 24.21875 56 28.609375 56 \nQ 40.484375 56 46.34375 49.84375 \nQ 52.203125 43.703125 52.203125 31.203125 \nz\n\" id=\"DejaVuSans-97\"/>\n       <path d=\"M 18.3125 70.21875 \nL 18.3125 54.6875 \nL 36.8125 54.6875 \nL 36.8125 47.703125 \nL 18.3125 47.703125 \nL 18.3125 18.015625 \nQ 18.3125 11.328125 20.140625 9.421875 \nQ 21.96875 7.515625 27.59375 7.515625 \nL 36.8125 7.515625 \nL 36.8125 0 \nL 27.59375 0 \nQ 17.1875 0 13.234375 3.875 \nQ 9.28125 7.765625 9.28125 18.015625 \nL 9.28125 47.703125 \nL 2.6875 47.703125 \nL 2.6875 54.6875 \nL 9.28125 54.6875 \nL 9.28125 70.21875 \nz\n\" id=\"DejaVuSans-116\"/>\n      </defs>\n      <use xlink:href=\"#DejaVuSans-68\"/>\n      <use x=\"77.001953\" xlink:href=\"#DejaVuSans-97\"/>\n      <use x=\"138.28125\" xlink:href=\"#DejaVuSans-116\"/>\n      <use x=\"177.490234\" xlink:href=\"#DejaVuSans-101\"/>\n     </g>\n    </g>\n   </g>\n   <g id=\"matplotlib.axis_2\">\n    <g id=\"ytick_1\">\n     <g id=\"line2d_11\">\n      <path clip-path=\"url(#p3c49ac5b24)\" d=\"M 30.103125 214.756364 \nL 364.903125 214.756364 \n\" style=\"fill:none;stroke:#ffffff;stroke-linecap:square;stroke-width:0.8;\"/>\n     </g>\n     <g id=\"line2d_12\">\n      <defs>\n       <path d=\"M 0 0 \nL -3.5 0 \n\" id=\"ma26a566f6b\" style=\"stroke:#555555;stroke-width:0.8;\"/>\n      </defs>\n      <g>\n       <use style=\"fill:#555555;stroke:#555555;stroke-width:0.8;\" x=\"30.103125\" xlink:href=\"#ma26a566f6b\" y=\"214.756364\"/>\n      </g>\n     </g>\n     <g id=\"text_10\">\n      <!-- 0.0 -->\n      <g style=\"fill:#555555;\" transform=\"translate(7.2 218.555582)scale(0.1 -0.1)\">\n       <defs>\n        <path d=\"M 10.6875 12.40625 \nL 21 12.40625 \nL 21 0 \nL 10.6875 0 \nz\n\" id=\"DejaVuSans-46\"/>\n       </defs>\n       <use xlink:href=\"#DejaVuSans-48\"/>\n       <use x=\"63.623047\" xlink:href=\"#DejaVuSans-46\"/>\n       <use x=\"95.410156\" xlink:href=\"#DejaVuSans-48\"/>\n      </g>\n     </g>\n    </g>\n    <g id=\"ytick_2\">\n     <g id=\"line2d_13\">\n      <path clip-path=\"url(#p3c49ac5b24)\" d=\"M 30.103125 175.221818 \nL 364.903125 175.221818 \n\" style=\"fill:none;stroke:#ffffff;stroke-linecap:square;stroke-width:0.8;\"/>\n     </g>\n     <g id=\"line2d_14\">\n      <g>\n       <use style=\"fill:#555555;stroke:#555555;stroke-width:0.8;\" x=\"30.103125\" xlink:href=\"#ma26a566f6b\" y=\"175.221818\"/>\n      </g>\n     </g>\n     <g id=\"text_11\">\n      <!-- 0.2 -->\n      <g style=\"fill:#555555;\" transform=\"translate(7.2 179.021037)scale(0.1 -0.1)\">\n       <use xlink:href=\"#DejaVuSans-48\"/>\n       <use x=\"63.623047\" xlink:href=\"#DejaVuSans-46\"/>\n       <use x=\"95.410156\" xlink:href=\"#DejaVuSans-50\"/>\n      </g>\n     </g>\n    </g>\n    <g id=\"ytick_3\">\n     <g id=\"line2d_15\">\n      <path clip-path=\"url(#p3c49ac5b24)\" d=\"M 30.103125 135.687273 \nL 364.903125 135.687273 \n\" style=\"fill:none;stroke:#ffffff;stroke-linecap:square;stroke-width:0.8;\"/>\n     </g>\n     <g id=\"line2d_16\">\n      <g>\n       <use style=\"fill:#555555;stroke:#555555;stroke-width:0.8;\" x=\"30.103125\" xlink:href=\"#ma26a566f6b\" y=\"135.687273\"/>\n      </g>\n     </g>\n     <g id=\"text_12\">\n      <!-- 0.4 -->\n      <g style=\"fill:#555555;\" transform=\"translate(7.2 139.486491)scale(0.1 -0.1)\">\n       <use xlink:href=\"#DejaVuSans-48\"/>\n       <use x=\"63.623047\" xlink:href=\"#DejaVuSans-46\"/>\n       <use x=\"95.410156\" xlink:href=\"#DejaVuSans-52\"/>\n      </g>\n     </g>\n    </g>\n    <g id=\"ytick_4\">\n     <g id=\"line2d_17\">\n      <path clip-path=\"url(#p3c49ac5b24)\" d=\"M 30.103125 96.152727 \nL 364.903125 96.152727 \n\" style=\"fill:none;stroke:#ffffff;stroke-linecap:square;stroke-width:0.8;\"/>\n     </g>\n     <g id=\"line2d_18\">\n      <g>\n       <use style=\"fill:#555555;stroke:#555555;stroke-width:0.8;\" x=\"30.103125\" xlink:href=\"#ma26a566f6b\" y=\"96.152727\"/>\n      </g>\n     </g>\n     <g id=\"text_13\">\n      <!-- 0.6 -->\n      <g style=\"fill:#555555;\" transform=\"translate(7.2 99.951946)scale(0.1 -0.1)\">\n       <defs>\n        <path d=\"M 33.015625 40.375 \nQ 26.375 40.375 22.484375 35.828125 \nQ 18.609375 31.296875 18.609375 23.390625 \nQ 18.609375 15.53125 22.484375 10.953125 \nQ 26.375 6.390625 33.015625 6.390625 \nQ 39.65625 6.390625 43.53125 10.953125 \nQ 47.40625 15.53125 47.40625 23.390625 \nQ 47.40625 31.296875 43.53125 35.828125 \nQ 39.65625 40.375 33.015625 40.375 \nz\nM 52.59375 71.296875 \nL 52.59375 62.3125 \nQ 48.875 64.0625 45.09375 64.984375 \nQ 41.3125 65.921875 37.59375 65.921875 \nQ 27.828125 65.921875 22.671875 59.328125 \nQ 17.53125 52.734375 16.796875 39.40625 \nQ 19.671875 43.65625 24.015625 45.921875 \nQ 28.375 48.1875 33.59375 48.1875 \nQ 44.578125 48.1875 50.953125 41.515625 \nQ 57.328125 34.859375 57.328125 23.390625 \nQ 57.328125 12.15625 50.6875 5.359375 \nQ 44.046875 -1.421875 33.015625 -1.421875 \nQ 20.359375 -1.421875 13.671875 8.265625 \nQ 6.984375 17.96875 6.984375 36.375 \nQ 6.984375 53.65625 15.1875 63.9375 \nQ 23.390625 74.21875 37.203125 74.21875 \nQ 40.921875 74.21875 44.703125 73.484375 \nQ 48.484375 72.75 52.59375 71.296875 \nz\n\" id=\"DejaVuSans-54\"/>\n       </defs>\n       <use xlink:href=\"#DejaVuSans-48\"/>\n       <use x=\"63.623047\" xlink:href=\"#DejaVuSans-46\"/>\n       <use x=\"95.410156\" xlink:href=\"#DejaVuSans-54\"/>\n      </g>\n     </g>\n    </g>\n    <g id=\"ytick_5\">\n     <g id=\"line2d_19\">\n      <path clip-path=\"url(#p3c49ac5b24)\" d=\"M 30.103125 56.618182 \nL 364.903125 56.618182 \n\" style=\"fill:none;stroke:#ffffff;stroke-linecap:square;stroke-width:0.8;\"/>\n     </g>\n     <g id=\"line2d_20\">\n      <g>\n       <use style=\"fill:#555555;stroke:#555555;stroke-width:0.8;\" x=\"30.103125\" xlink:href=\"#ma26a566f6b\" y=\"56.618182\"/>\n      </g>\n     </g>\n     <g id=\"text_14\">\n      <!-- 0.8 -->\n      <g style=\"fill:#555555;\" transform=\"translate(7.2 60.417401)scale(0.1 -0.1)\">\n       <use xlink:href=\"#DejaVuSans-48\"/>\n       <use x=\"63.623047\" xlink:href=\"#DejaVuSans-46\"/>\n       <use x=\"95.410156\" xlink:href=\"#DejaVuSans-56\"/>\n      </g>\n     </g>\n    </g>\n    <g id=\"ytick_6\">\n     <g id=\"line2d_21\">\n      <path clip-path=\"url(#p3c49ac5b24)\" d=\"M 30.103125 17.083636 \nL 364.903125 17.083636 \n\" style=\"fill:none;stroke:#ffffff;stroke-linecap:square;stroke-width:0.8;\"/>\n     </g>\n     <g id=\"line2d_22\">\n      <g>\n       <use style=\"fill:#555555;stroke:#555555;stroke-width:0.8;\" x=\"30.103125\" xlink:href=\"#ma26a566f6b\" y=\"17.083636\"/>\n      </g>\n     </g>\n     <g id=\"text_15\">\n      <!-- 1.0 -->\n      <g style=\"fill:#555555;\" transform=\"translate(7.2 20.882855)scale(0.1 -0.1)\">\n       <use xlink:href=\"#DejaVuSans-49\"/>\n       <use x=\"63.623047\" xlink:href=\"#DejaVuSans-46\"/>\n       <use x=\"95.410156\" xlink:href=\"#DejaVuSans-48\"/>\n      </g>\n     </g>\n    </g>\n   </g>\n   <g id=\"line2d_23\">\n    <path clip-path=\"url(#p3c49ac5b24)\" d=\"M 30.103125 214.756364 \nL 77.931696 80.31239 \nL 125.760268 17.083636 \nL 173.588839 71.992818 \nL 221.417411 201.778155 \nL 269.245982 93.956409 \nL 317.074554 82.97441 \nL 364.903125 141.21142 \n\" style=\"fill:none;stroke:#e24a33;stroke-linecap:square;stroke-width:1.5;\"/>\n   </g>\n   <g id=\"line2d_24\">\n    <path clip-path=\"url(#p3c49ac5b24)\" d=\"M 30.103125 214.756364 \nL 77.931696 132.894012 \nL 125.760268 80.477909 \nL 173.588839 17.083636 \nL 221.417411 54.252525 \nL 269.245982 133.04301 \nL 317.074554 141.482954 \nL 364.903125 70.104629 \n\" style=\"fill:none;stroke:#348abd;stroke-linecap:square;stroke-width:1.5;\"/>\n   </g>\n   <g id=\"patch_3\">\n    <path d=\"M 30.103125 224.64 \nL 30.103125 7.2 \n\" style=\"fill:none;stroke:#ffffff;stroke-linecap:square;stroke-linejoin:miter;\"/>\n   </g>\n   <g id=\"patch_4\">\n    <path d=\"M 364.903125 224.64 \nL 364.903125 7.2 \n\" style=\"fill:none;stroke:#ffffff;stroke-linecap:square;stroke-linejoin:miter;\"/>\n   </g>\n   <g id=\"patch_5\">\n    <path d=\"M 30.103125 224.64 \nL 364.903125 224.64 \n\" style=\"fill:none;stroke:#ffffff;stroke-linecap:square;stroke-linejoin:miter;\"/>\n   </g>\n   <g id=\"patch_6\">\n    <path d=\"M 30.103125 7.2 \nL 364.903125 7.2 \n\" style=\"fill:none;stroke:#ffffff;stroke-linecap:square;stroke-linejoin:miter;\"/>\n   </g>\n   <g id=\"legend_1\">\n    <g id=\"patch_7\">\n     <path d=\"M 215.40625 45.1125 \nL 357.903125 45.1125 \nQ 359.903125 45.1125 359.903125 43.1125 \nL 359.903125 14.2 \nQ 359.903125 12.2 357.903125 12.2 \nL 215.40625 12.2 \nQ 213.40625 12.2 213.40625 14.2 \nL 213.40625 43.1125 \nQ 213.40625 45.1125 215.40625 45.1125 \nz\n\" style=\"fill:#e5e5e5;opacity:0.8;stroke:#cccccc;stroke-linejoin:miter;stroke-width:0.5;\"/>\n    </g>\n    <g id=\"line2d_25\">\n     <path d=\"M 217.40625 20.298437 \nL 237.40625 20.298437 \n\" style=\"fill:none;stroke:#e24a33;stroke-linecap:square;stroke-width:1.5;\"/>\n    </g>\n    <g id=\"line2d_26\"/>\n    <g id=\"text_16\">\n     <!-- BHARTIARTL.NS_Close -->\n     <g transform=\"translate(245.40625 23.798437)scale(0.1 -0.1)\">\n      <defs>\n       <path d=\"M 19.671875 34.8125 \nL 19.671875 8.109375 \nL 35.5 8.109375 \nQ 43.453125 8.109375 47.28125 11.40625 \nQ 51.125 14.703125 51.125 21.484375 \nQ 51.125 28.328125 47.28125 31.5625 \nQ 43.453125 34.8125 35.5 34.8125 \nz\nM 19.671875 64.796875 \nL 19.671875 42.828125 \nL 34.28125 42.828125 \nQ 41.5 42.828125 45.03125 45.53125 \nQ 48.578125 48.25 48.578125 53.8125 \nQ 48.578125 59.328125 45.03125 62.0625 \nQ 41.5 64.796875 34.28125 64.796875 \nz\nM 9.8125 72.90625 \nL 35.015625 72.90625 \nQ 46.296875 72.90625 52.390625 68.21875 \nQ 58.5 63.53125 58.5 54.890625 \nQ 58.5 48.1875 55.375 44.234375 \nQ 52.25 40.28125 46.1875 39.3125 \nQ 53.46875 37.75 57.5 32.78125 \nQ 61.53125 27.828125 61.53125 20.40625 \nQ 61.53125 10.640625 54.890625 5.3125 \nQ 48.25 0 35.984375 0 \nL 9.8125 0 \nz\n\" id=\"DejaVuSans-66\"/>\n       <path d=\"M 9.8125 72.90625 \nL 19.671875 72.90625 \nL 19.671875 43.015625 \nL 55.515625 43.015625 \nL 55.515625 72.90625 \nL 65.375 72.90625 \nL 65.375 0 \nL 55.515625 0 \nL 55.515625 34.71875 \nL 19.671875 34.71875 \nL 19.671875 0 \nL 9.8125 0 \nz\n\" id=\"DejaVuSans-72\"/>\n       <path d=\"M 34.1875 63.1875 \nL 20.796875 26.90625 \nL 47.609375 26.90625 \nz\nM 28.609375 72.90625 \nL 39.796875 72.90625 \nL 67.578125 0 \nL 57.328125 0 \nL 50.6875 18.703125 \nL 17.828125 18.703125 \nL 11.1875 0 \nL 0.78125 0 \nz\n\" id=\"DejaVuSans-65\"/>\n       <path d=\"M 44.390625 34.1875 \nQ 47.5625 33.109375 50.5625 29.59375 \nQ 53.5625 26.078125 56.59375 19.921875 \nL 66.609375 0 \nL 56 0 \nL 46.6875 18.703125 \nQ 43.0625 26.03125 39.671875 28.421875 \nQ 36.28125 30.8125 30.421875 30.8125 \nL 19.671875 30.8125 \nL 19.671875 0 \nL 9.8125 0 \nL 9.8125 72.90625 \nL 32.078125 72.90625 \nQ 44.578125 72.90625 50.734375 67.671875 \nQ 56.890625 62.453125 56.890625 51.90625 \nQ 56.890625 45.015625 53.6875 40.46875 \nQ 50.484375 35.9375 44.390625 34.1875 \nz\nM 19.671875 64.796875 \nL 19.671875 38.921875 \nL 32.078125 38.921875 \nQ 39.203125 38.921875 42.84375 42.21875 \nQ 46.484375 45.515625 46.484375 51.90625 \nQ 46.484375 58.296875 42.84375 61.546875 \nQ 39.203125 64.796875 32.078125 64.796875 \nz\n\" id=\"DejaVuSans-82\"/>\n       <path d=\"M -0.296875 72.90625 \nL 61.375 72.90625 \nL 61.375 64.59375 \nL 35.5 64.59375 \nL 35.5 0 \nL 25.59375 0 \nL 25.59375 64.59375 \nL -0.296875 64.59375 \nz\n\" id=\"DejaVuSans-84\"/>\n       <path d=\"M 9.8125 72.90625 \nL 19.671875 72.90625 \nL 19.671875 0 \nL 9.8125 0 \nz\n\" id=\"DejaVuSans-73\"/>\n       <path d=\"M 9.8125 72.90625 \nL 19.671875 72.90625 \nL 19.671875 8.296875 \nL 55.171875 8.296875 \nL 55.171875 0 \nL 9.8125 0 \nz\n\" id=\"DejaVuSans-76\"/>\n       <path d=\"M 9.8125 72.90625 \nL 23.09375 72.90625 \nL 55.421875 11.921875 \nL 55.421875 72.90625 \nL 64.984375 72.90625 \nL 64.984375 0 \nL 51.703125 0 \nL 19.390625 60.984375 \nL 19.390625 0 \nL 9.8125 0 \nz\n\" id=\"DejaVuSans-78\"/>\n       <path d=\"M 53.515625 70.515625 \nL 53.515625 60.890625 \nQ 47.90625 63.578125 42.921875 64.890625 \nQ 37.9375 66.21875 33.296875 66.21875 \nQ 25.25 66.21875 20.875 63.09375 \nQ 16.5 59.96875 16.5 54.203125 \nQ 16.5 49.359375 19.40625 46.890625 \nQ 22.3125 44.4375 30.421875 42.921875 \nL 36.375 41.703125 \nQ 47.40625 39.59375 52.65625 34.296875 \nQ 57.90625 29 57.90625 20.125 \nQ 57.90625 9.515625 50.796875 4.046875 \nQ 43.703125 -1.421875 29.984375 -1.421875 \nQ 24.8125 -1.421875 18.96875 -0.25 \nQ 13.140625 0.921875 6.890625 3.21875 \nL 6.890625 13.375 \nQ 12.890625 10.015625 18.65625 8.296875 \nQ 24.421875 6.59375 29.984375 6.59375 \nQ 38.421875 6.59375 43.015625 9.90625 \nQ 47.609375 13.234375 47.609375 19.390625 \nQ 47.609375 24.75 44.3125 27.78125 \nQ 41.015625 30.8125 33.5 32.328125 \nL 27.484375 33.5 \nQ 16.453125 35.6875 11.515625 40.375 \nQ 6.59375 45.0625 6.59375 53.421875 \nQ 6.59375 63.09375 13.40625 68.65625 \nQ 20.21875 74.21875 32.171875 74.21875 \nQ 37.3125 74.21875 42.625 73.28125 \nQ 47.953125 72.359375 53.515625 70.515625 \nz\n\" id=\"DejaVuSans-83\"/>\n       <path d=\"M 50.984375 -16.609375 \nL 50.984375 -23.578125 \nL -0.984375 -23.578125 \nL -0.984375 -16.609375 \nz\n\" id=\"DejaVuSans-95\"/>\n       <path d=\"M 64.40625 67.28125 \nL 64.40625 56.890625 \nQ 59.421875 61.53125 53.78125 63.8125 \nQ 48.140625 66.109375 41.796875 66.109375 \nQ 29.296875 66.109375 22.65625 58.46875 \nQ 16.015625 50.828125 16.015625 36.375 \nQ 16.015625 21.96875 22.65625 14.328125 \nQ 29.296875 6.6875 41.796875 6.6875 \nQ 48.140625 6.6875 53.78125 8.984375 \nQ 59.421875 11.28125 64.40625 15.921875 \nL 64.40625 5.609375 \nQ 59.234375 2.09375 53.4375 0.328125 \nQ 47.65625 -1.421875 41.21875 -1.421875 \nQ 24.65625 -1.421875 15.125 8.703125 \nQ 5.609375 18.84375 5.609375 36.375 \nQ 5.609375 53.953125 15.125 64.078125 \nQ 24.65625 74.21875 41.21875 74.21875 \nQ 47.75 74.21875 53.53125 72.484375 \nQ 59.328125 70.75 64.40625 67.28125 \nz\n\" id=\"DejaVuSans-67\"/>\n       <path d=\"M 9.421875 75.984375 \nL 18.40625 75.984375 \nL 18.40625 0 \nL 9.421875 0 \nz\n\" id=\"DejaVuSans-108\"/>\n       <path d=\"M 30.609375 48.390625 \nQ 23.390625 48.390625 19.1875 42.75 \nQ 14.984375 37.109375 14.984375 27.296875 \nQ 14.984375 17.484375 19.15625 11.84375 \nQ 23.34375 6.203125 30.609375 6.203125 \nQ 37.796875 6.203125 41.984375 11.859375 \nQ 46.1875 17.53125 46.1875 27.296875 \nQ 46.1875 37.015625 41.984375 42.703125 \nQ 37.796875 48.390625 30.609375 48.390625 \nz\nM 30.609375 56 \nQ 42.328125 56 49.015625 48.375 \nQ 55.71875 40.765625 55.71875 27.296875 \nQ 55.71875 13.875 49.015625 6.21875 \nQ 42.328125 -1.421875 30.609375 -1.421875 \nQ 18.84375 -1.421875 12.171875 6.21875 \nQ 5.515625 13.875 5.515625 27.296875 \nQ 5.515625 40.765625 12.171875 48.375 \nQ 18.84375 56 30.609375 56 \nz\n\" id=\"DejaVuSans-111\"/>\n       <path d=\"M 44.28125 53.078125 \nL 44.28125 44.578125 \nQ 40.484375 46.53125 36.375 47.5 \nQ 32.28125 48.484375 27.875 48.484375 \nQ 21.1875 48.484375 17.84375 46.4375 \nQ 14.5 44.390625 14.5 40.28125 \nQ 14.5 37.15625 16.890625 35.375 \nQ 19.28125 33.59375 26.515625 31.984375 \nL 29.59375 31.296875 \nQ 39.15625 29.25 43.1875 25.515625 \nQ 47.21875 21.78125 47.21875 15.09375 \nQ 47.21875 7.46875 41.1875 3.015625 \nQ 35.15625 -1.421875 24.609375 -1.421875 \nQ 20.21875 -1.421875 15.453125 -0.5625 \nQ 10.6875 0.296875 5.421875 2 \nL 5.421875 11.28125 \nQ 10.40625 8.6875 15.234375 7.390625 \nQ 20.0625 6.109375 24.8125 6.109375 \nQ 31.15625 6.109375 34.5625 8.28125 \nQ 37.984375 10.453125 37.984375 14.40625 \nQ 37.984375 18.0625 35.515625 20.015625 \nQ 33.0625 21.96875 24.703125 23.78125 \nL 21.578125 24.515625 \nQ 13.234375 26.265625 9.515625 29.90625 \nQ 5.8125 33.546875 5.8125 39.890625 \nQ 5.8125 47.609375 11.28125 51.796875 \nQ 16.75 56 26.8125 56 \nQ 31.78125 56 36.171875 55.265625 \nQ 40.578125 54.546875 44.28125 53.078125 \nz\n\" id=\"DejaVuSans-115\"/>\n      </defs>\n      <use xlink:href=\"#DejaVuSans-66\"/>\n      <use x=\"68.603516\" xlink:href=\"#DejaVuSans-72\"/>\n      <use x=\"143.798828\" xlink:href=\"#DejaVuSans-65\"/>\n      <use x=\"212.207031\" xlink:href=\"#DejaVuSans-82\"/>\n      <use x=\"274.439453\" xlink:href=\"#DejaVuSans-84\"/>\n      <use x=\"335.523438\" xlink:href=\"#DejaVuSans-73\"/>\n      <use x=\"365.015625\" xlink:href=\"#DejaVuSans-65\"/>\n      <use x=\"433.423828\" xlink:href=\"#DejaVuSans-82\"/>\n      <use x=\"495.65625\" xlink:href=\"#DejaVuSans-84\"/>\n      <use x=\"556.740234\" xlink:href=\"#DejaVuSans-76\"/>\n      <use x=\"612.453125\" xlink:href=\"#DejaVuSans-46\"/>\n      <use x=\"644.240234\" xlink:href=\"#DejaVuSans-78\"/>\n      <use x=\"719.044922\" xlink:href=\"#DejaVuSans-83\"/>\n      <use x=\"782.521484\" xlink:href=\"#DejaVuSans-95\"/>\n      <use x=\"832.521484\" xlink:href=\"#DejaVuSans-67\"/>\n      <use x=\"902.345703\" xlink:href=\"#DejaVuSans-108\"/>\n      <use x=\"930.128906\" xlink:href=\"#DejaVuSans-111\"/>\n      <use x=\"991.310547\" xlink:href=\"#DejaVuSans-115\"/>\n      <use x=\"1043.410156\" xlink:href=\"#DejaVuSans-101\"/>\n     </g>\n    </g>\n    <g id=\"line2d_27\">\n     <path d=\"M 217.40625 35.254687 \nL 237.40625 35.254687 \n\" style=\"fill:none;stroke:#348abd;stroke-linecap:square;stroke-width:1.5;\"/>\n    </g>\n    <g id=\"line2d_28\"/>\n    <g id=\"text_17\">\n     <!-- NN_Predict -->\n     <g transform=\"translate(245.40625 38.754687)scale(0.1 -0.1)\">\n      <defs>\n       <path d=\"M 19.671875 64.796875 \nL 19.671875 37.40625 \nL 32.078125 37.40625 \nQ 38.96875 37.40625 42.71875 40.96875 \nQ 46.484375 44.53125 46.484375 51.125 \nQ 46.484375 57.671875 42.71875 61.234375 \nQ 38.96875 64.796875 32.078125 64.796875 \nz\nM 9.8125 72.90625 \nL 32.078125 72.90625 \nQ 44.34375 72.90625 50.609375 67.359375 \nQ 56.890625 61.8125 56.890625 51.125 \nQ 56.890625 40.328125 50.609375 34.8125 \nQ 44.34375 29.296875 32.078125 29.296875 \nL 19.671875 29.296875 \nL 19.671875 0 \nL 9.8125 0 \nz\n\" id=\"DejaVuSans-80\"/>\n       <path d=\"M 41.109375 46.296875 \nQ 39.59375 47.171875 37.8125 47.578125 \nQ 36.03125 48 33.890625 48 \nQ 26.265625 48 22.1875 43.046875 \nQ 18.109375 38.09375 18.109375 28.8125 \nL 18.109375 0 \nL 9.078125 0 \nL 9.078125 54.6875 \nL 18.109375 54.6875 \nL 18.109375 46.1875 \nQ 20.953125 51.171875 25.484375 53.578125 \nQ 30.03125 56 36.53125 56 \nQ 37.453125 56 38.578125 55.875 \nQ 39.703125 55.765625 41.0625 55.515625 \nz\n\" id=\"DejaVuSans-114\"/>\n       <path d=\"M 45.40625 46.390625 \nL 45.40625 75.984375 \nL 54.390625 75.984375 \nL 54.390625 0 \nL 45.40625 0 \nL 45.40625 8.203125 \nQ 42.578125 3.328125 38.25 0.953125 \nQ 33.9375 -1.421875 27.875 -1.421875 \nQ 17.96875 -1.421875 11.734375 6.484375 \nQ 5.515625 14.40625 5.515625 27.296875 \nQ 5.515625 40.1875 11.734375 48.09375 \nQ 17.96875 56 27.875 56 \nQ 33.9375 56 38.25 53.625 \nQ 42.578125 51.265625 45.40625 46.390625 \nz\nM 14.796875 27.296875 \nQ 14.796875 17.390625 18.875 11.75 \nQ 22.953125 6.109375 30.078125 6.109375 \nQ 37.203125 6.109375 41.296875 11.75 \nQ 45.40625 17.390625 45.40625 27.296875 \nQ 45.40625 37.203125 41.296875 42.84375 \nQ 37.203125 48.484375 30.078125 48.484375 \nQ 22.953125 48.484375 18.875 42.84375 \nQ 14.796875 37.203125 14.796875 27.296875 \nz\n\" id=\"DejaVuSans-100\"/>\n       <path d=\"M 9.421875 54.6875 \nL 18.40625 54.6875 \nL 18.40625 0 \nL 9.421875 0 \nz\nM 9.421875 75.984375 \nL 18.40625 75.984375 \nL 18.40625 64.59375 \nL 9.421875 64.59375 \nz\n\" id=\"DejaVuSans-105\"/>\n       <path d=\"M 48.78125 52.59375 \nL 48.78125 44.1875 \nQ 44.96875 46.296875 41.140625 47.34375 \nQ 37.3125 48.390625 33.40625 48.390625 \nQ 24.65625 48.390625 19.8125 42.84375 \nQ 14.984375 37.3125 14.984375 27.296875 \nQ 14.984375 17.28125 19.8125 11.734375 \nQ 24.65625 6.203125 33.40625 6.203125 \nQ 37.3125 6.203125 41.140625 7.25 \nQ 44.96875 8.296875 48.78125 10.40625 \nL 48.78125 2.09375 \nQ 45.015625 0.34375 40.984375 -0.53125 \nQ 36.96875 -1.421875 32.421875 -1.421875 \nQ 20.0625 -1.421875 12.78125 6.34375 \nQ 5.515625 14.109375 5.515625 27.296875 \nQ 5.515625 40.671875 12.859375 48.328125 \nQ 20.21875 56 33.015625 56 \nQ 37.15625 56 41.109375 55.140625 \nQ 45.0625 54.296875 48.78125 52.59375 \nz\n\" id=\"DejaVuSans-99\"/>\n      </defs>\n      <use xlink:href=\"#DejaVuSans-78\"/>\n      <use x=\"74.804688\" xlink:href=\"#DejaVuSans-78\"/>\n      <use x=\"149.609375\" xlink:href=\"#DejaVuSans-95\"/>\n      <use x=\"199.609375\" xlink:href=\"#DejaVuSans-80\"/>\n      <use x=\"258.162109\" xlink:href=\"#DejaVuSans-114\"/>\n      <use x=\"297.025391\" xlink:href=\"#DejaVuSans-101\"/>\n      <use x=\"358.548828\" xlink:href=\"#DejaVuSans-100\"/>\n      <use x=\"422.025391\" xlink:href=\"#DejaVuSans-105\"/>\n      <use x=\"449.808594\" xlink:href=\"#DejaVuSans-99\"/>\n      <use x=\"504.789062\" xlink:href=\"#DejaVuSans-116\"/>\n     </g>\n    </g>\n   </g>\n  </g>\n </g>\n <defs>\n  <clipPath id=\"p3c49ac5b24\">\n   <rect height=\"217.44\" width=\"334.8\" x=\"30.103125\" y=\"7.2\"/>\n  </clipPath>\n </defs>\n</svg>\n",
      "image/png": "[encoded data removed]"
     },
     "metadata": {}
    }
   ],
   "source": [
    "#df = df.rename(columns={'oldName1': 'newName1', 'oldName2': 'newName2'}\n",
    "zz[[symbol.close,'NN_Predict']].plot()"
   ]
  },
  {
   "cell_type": "code",
   "execution_count": 113,
   "metadata": {},
   "outputs": [
    {
     "output_type": "execute_result",
     "data": {
      "text/plain": [
       "            BHARTIARTL.NS_Volume  BHARTIARTL.NS_Close  NN_Predict\n",
       "Date                                                             \n",
       "2021-02-01              0.000000             0.000000    0.000000\n",
       "2021-02-02              0.198578             0.680134    0.414131\n",
       "2021-02-03              0.435028             1.000000    0.679297\n",
       "2021-02-04              1.000000             0.722222    1.000000\n",
       "2021-02-05              0.562769             0.065655    0.811968\n",
       "2021-02-08              0.196832             0.611111    0.413377\n",
       "2021-02-09              0.177802             0.666667    0.370680\n",
       "2021-02-10              0.461342             0.372054    0.731774"
      ],
      "text/html": "<div>\n<style scoped>\n    .dataframe tbody tr th:only-of-type {\n        vertical-align: middle;\n    }\n\n    .dataframe tbody tr th {\n        vertical-align: top;\n    }\n\n    .dataframe thead th {\n        text-align: right;\n    }\n</style>\n<table border=\"1\" class=\"dataframe\">\n  <thead>\n    <tr style=\"text-align: right;\">\n      <th></th>\n      <th>BHARTIARTL.NS_Volume</th>\n      <th>BHARTIARTL.NS_Close</th>\n      <th>NN_Predict</th>\n    </tr>\n    <tr>\n      <th>Date</th>\n      <th></th>\n      <th></th>\n      <th></th>\n    </tr>\n  </thead>\n  <tbody>\n    <tr>\n      <th>2021-02-01</th>\n      <td>0.000000</td>\n      <td>0.000000</td>\n      <td>0.000000</td>\n    </tr>\n    <tr>\n      <th>2021-02-02</th>\n      <td>0.198578</td>\n      <td>0.680134</td>\n      <td>0.414131</td>\n    </tr>\n    <tr>\n      <th>2021-02-03</th>\n      <td>0.435028</td>\n      <td>1.000000</td>\n      <td>0.679297</td>\n    </tr>\n    <tr>\n      <th>2021-02-04</th>\n      <td>1.000000</td>\n      <td>0.722222</td>\n      <td>1.000000</td>\n    </tr>\n    <tr>\n      <th>2021-02-05</th>\n      <td>0.562769</td>\n      <td>0.065655</td>\n      <td>0.811968</td>\n    </tr>\n    <tr>\n      <th>2021-02-08</th>\n      <td>0.196832</td>\n      <td>0.611111</td>\n      <td>0.413377</td>\n    </tr>\n    <tr>\n      <th>2021-02-09</th>\n      <td>0.177802</td>\n      <td>0.666667</td>\n      <td>0.370680</td>\n    </tr>\n    <tr>\n      <th>2021-02-10</th>\n      <td>0.461342</td>\n      <td>0.372054</td>\n      <td>0.731774</td>\n    </tr>\n  </tbody>\n</table>\n</div>"
     },
     "metadata": {},
     "execution_count": 113
    }
   ],
   "source": [
    "zz[:20]"
   ]
  },
  {
   "cell_type": "code",
   "execution_count": 114,
   "metadata": {},
   "outputs": [
    {
     "output_type": "stream",
     "name": "stdout",
     "text": [
      "Trades:\nBHARTIARTL.NS\nTrade(datetime=2021-02-02 00:00:00, action=SHORT, symbol=BHARTIARTL.NS, price=584.9000244140625, shares=17, money=9943.300415039062, fee=5, slippage=0.0)\nTrade(datetime=2021-02-04 00:00:00, action=SHORT_EXIT, symbol=BHARTIARTL.NS, price=614.9000244140625, shares=17, money=10453.300415039062, fee=5, slippage=0.0)\nTrade(datetime=2021-02-05 00:00:00, action=SHORT, symbol=BHARTIARTL.NS, price=603.7999877929688, shares=17, money=10264.599792480469, fee=5, slippage=0.0)\nTrade(datetime=2021-02-09 00:00:00, action=SHORT_EXIT, symbol=BHARTIARTL.NS, price=598.9000244140625, shares=17, money=10181.300415039062, fee=5, slippage=0.0)\nTrade(datetime=2021-02-10 00:00:00, action=SHORT, symbol=BHARTIARTL.NS, price=604.9500122070312, shares=17, money=10284.150207519531, fee=5, slippage=0.0)\nProfitability: 50.0\n# Trades: 2\nNet Profit: -446.70062255859375\nGross Profit: 73.29937744140625\nGross Loss: -520.0\nWinning Trades: 1\nLosing Trades: 1\nSharpe Ratio: -4.984784761170944\nAvg. Trading Amount: 15246.025207519531\nAvg. Fees: 12.5\nAvg. Slippage: 0.0\nAvg. Gains: -2.128295524834872\nAvg. Winner: 0.7202949446449187\nAvg. Loser: -4.976885994314664\nAvg. Bars: 2.0\nTotal Fees: 25.0\nTotal Slippage: 0.0\nTrades Lacking Capital: 0\nOngoing Trades: 1\n"
     ]
    }
   ],
   "source": [
    "print(strat.report.pretty_overview())"
   ]
  },
  {
   "cell_type": "code",
   "execution_count": null,
   "metadata": {
    "collapsed": true
   },
   "outputs": [],
   "source": []
  },
  {
   "cell_type": "code",
   "execution_count": null,
   "metadata": {
    "collapsed": true
   },
   "outputs": [],
   "source": []
  }
 ],
 "metadata": {
  "anaconda-cloud": {},
  "kernelspec": {
   "name": "python3",
   "display_name": "Python 3.8.6 64-bit ('env': venv)",
   "metadata": {
    "interpreter": {
     "hash": "756335c628b8712ea2181849df614e2a8da4d76012f39a5bed20d10b0af7eaac"
    }
   }
  },
  "language_info": {
   "codemirror_mode": {
    "name": "ipython",
    "version": 2
   },
   "file_extension": ".py",
   "mimetype": "text/x-python",
   "name": "python",
   "nbconvert_exporter": "python",
   "pygments_lexer": "ipython2",
   "version": "3.8.6-final"
  }
 },
 "nbformat": 4,
 "nbformat_minor": 1
}